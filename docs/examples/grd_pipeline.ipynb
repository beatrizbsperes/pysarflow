{
 "cells": [
  {
   "cell_type": "markdown",
   "metadata": {},
   "source": [
    "** valencia bounding box  \n",
    "{\"type\":\"Polygon\",\"coordinates\":[[[-0.124146,38.953446],[-0.547119,38.953446],[-0.547119,39.481696],[-0.124146,39.481696],[-0.124146,38.953446]]]}  \n",
    "\n",
    "** data   \n",
    "pre-event = 2024-10-07  \n",
    "post-event = 2024-10-31  \n",
    "\n",
    "** Data download from ASF search portal: parameters  \n",
    "    * GRD-HD, ascending, instrument IW, VV+VH pols"
   ]
  },
  {
   "cell_type": "code",
   "execution_count": null,
   "metadata": {},
   "outputs": [],
   "source": [
    "# Importing functions from package--\n",
    "from pysarflow import read_grd_product"
   ]
  },
  {
   "cell_type": "code",
   "execution_count": null,
   "metadata": {},
   "outputs": [],
   "source": [
    "# Path to the .SAFE directory\n",
    "pre_event_product_path = \"../data/S1A_IW_GRDH_1SDV_20241007T180256_20241007T180321_056000_06D943_D46B.SAFE\"\n",
    "post_event_product_path = \"../data/S1A_IW_GRDH_1SDV_20241007T180256_20241007T180321_056000_06D943_D46B.SAFE\"\n",
    "\n",
    "# reading GRD product\n",
    "pre_event_product=read_grd_product(pre_event_product_path)\n",
    "post_event_product=read_grd_product(post_event_product_path)"
   ]
  },
  {
   "cell_type": "code",
   "execution_count": null,
   "metadata": {},
   "outputs": [],
   "source": [
    "aoi_bbox=[-0.547119, 38.953446,-0.124146,39.481696]\n",
    "pre_event_product_subset=subset_AOI(product=pre_event_product, bbox=aoi_bbox)\n",
    "post_event_product_subset=subset_AOI(product=post_event_product, bbox=aoi_bbox)"
   ]
  }
 ],
 "metadata": {
  "kernelspec": {
   "display_name": "snap_env",
   "language": "python",
   "name": "python3"
  },
  "language_info": {
   "codemirror_mode": {
    "name": "ipython",
    "version": 3
   },
   "file_extension": ".py",
   "mimetype": "text/x-python",
   "name": "python",
   "nbconvert_exporter": "python",
   "pygments_lexer": "ipython3",
   "version": "3.9.23"
  }
 },
 "nbformat": 4,
 "nbformat_minor": 2
}
