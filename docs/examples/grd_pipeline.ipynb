{
 "cells": [
  {
   "cell_type": "markdown",
   "metadata": {},
   "source": [
    "** valencia bounding box  \n",
    "{\"type\":\"Polygon\",\"coordinates\":[[[-0.124146,38.953446],[-0.547119,38.953446],[-0.547119,39.481696],[-0.124146,39.481696],[-0.124146,38.953446]]]}  \n",
    "\n",
    "** data   \n",
    "pre-event = 2024-10-07  \n",
    "post-event = 2024-10-31  \n",
    "\n",
    "** Data download from ASF search portal: parameters  \n",
    "    * GRD-HD, ascending, instrument IW, VV+VH pols"
   ]
  },
  {
   "cell_type": "code",

   "execution_count": 1,

   "metadata": {},
   "outputs": [
    {
     "name": "stderr",
     "output_type": "stream",
     "text": [
      "Error while parsing JAI registry file \"file:/Applications/esa-snap/snap/modules/org.esa.snap.snap-core/org-geotools/gt-coverage.jar!/META-INF/registryFile.jai\" :\n",
      "Error in registry file at line number #31\n",
      "A descriptor is already registered against the name \"org.geotools.ColorReduction\" under registry mode \"rendered\"\n",
      "Error in registry file at line number #32\n",
      "A descriptor is already registered against the name \"org.geotools.ColorInversion\" under registry mode \"rendered\"\n",
      "Error while parsing JAI registry file \"file:/Applications/esa-snap/snap/modules/org.esa.snap.snap-core/org-jaitools/jt-zonalstats.jar!/META-INF/registryFile.jai\" :\n",
      "Error in registry file at line number #4\n",
      "A descriptor is already registered against the name \"ZonalStats\" under registry mode \"rendered\"\n",
      "Error while parsing JAI registry file \"file:/Applications/esa-snap/snap/modules/org.esa.snap.snap-gpf/org-jaitools/jt-vectorize.jar!/META-INF/registryFile.jai\" :\n",
      "Error in registry file at line number #4\n",
      "A descriptor is already registered against the name \"Vectorize\" under registry mode \"rendered\"\n",
      "INFO: org.esa.snap.core.gpf.operators.tooladapter.ToolAdapterIO: Initializing external tool adapters\n",
      "INFO: org.esa.snap.core.util.EngineVersionCheckActivator: Please check regularly for new updates for the best SNAP experience.\n"
     ]
    }
   ],
   "source": [
    "# Importing functions from package--\n",

    "from pysarflow import read_grd_product, subset_AOI, apply_orbit_file, thermal_noise_removal, border_noise_removal, radiometric_calibration, speckle_filter,terrain_correction, stack, band_difference,plotBand"

   ]
  },
  {
   "cell_type": "markdown",
   "metadata": {},
   "source": [
    "read grd file"
   ]
  },
  {
   "cell_type": "code",
   "execution_count": null,
   "metadata": {},

   "outputs": [
    {
     "name": "stdout",
     "output_type": "stream",
     "text": [
      "Reading SAR product from: ../data/S1A_IW_GRDH_1SDV_20241007T180256_20241007T180321_056000_06D943_D46B.SAFE...\n",
      "\tProduct read successfully.\n",
      "Reading SAR product from: ../data/S1A_IW_GRDH_1SDV_20241031T180256_20241031T180321_056350_06E71E_479F.SAFE...\n",
      "\tProduct read successfully.\n"
     ]
    },
    {
     "name": "stderr",
     "output_type": "stream",
     "text": [
      "INFO: eu.esa.sar.commons.io.ImageIOFile: Using FileCacheImageInputStream\n",
      "INFO: eu.esa.sar.commons.io.ImageIOFile: Using FileCacheImageInputStream\n"
     ]
    }
   ],
   "source": [
    "# Path to the .SAFE directory\n",
    "pre_event_product_path = \"../data/S1A_IW_GRDH_1SDV_20241007T180256_20241007T180321_056000_06D943_D46B.SAFE\"\n",
    "# pre_event_product_path = \"D:\\Archive\\S1A_IW_GRDH_1SDV_20241007T180256_20241007T180321_056000_06D943_D46B.SAFE\"\n",
    "post_event_product_path = \"../data/S1A_IW_GRDH_1SDV_20241031T180256_20241031T180321_056350_06E71E_479F.SAFE\"\n",
    "# post_event_product_path = \"D:\\Archive\\S1A_IW_GRDH_1SDV_20241031T180256_20241031T180321_056350_06E71E_479F.SAFE\"\n",

    "\n",
    "# reading GRD product\n",
    "pre_event_product=read_grd_product(pre_event_product_path)\n",
    "post_event_product=read_grd_product(post_event_product_path)"
   ]
  },
  {
   "cell_type": "markdown",
   "metadata": {},
   "source": [
    "subsetting"
   ]
  },
  {
   "cell_type": "code",
   "execution_count": null,
   "metadata": {},
   "outputs": [],
   "source": [
    "aoi_bbox=[-0.547119, 38.953446,-0.124146,39.481696]\n",
    "pre_event_product_subset=subset_AOI(product=pre_event_product, bbox=aoi_bbox)\n",
    "post_event_product_subset=subset_AOI(product=post_event_product, bbox=aoi_bbox)"
   ]
  },
  {
   "cell_type": "code",
   "execution_count": null,
   "metadata": {},
   "outputs": [],
   "source": [
    "plotBand(pre_event_product_subset, \"Intensity_VV\", \n",
    "         post_event_product_subset, \"Intensity_VV\", \n",
    "         vmin=0, vmax=100000, figsize=(6,4))\n"
   ]
  },
  {
   "cell_type": "markdown",
   "metadata": {},
   "source": [
    "apply orbit file to subset"
   ]
  },
  {
   "cell_type": "code",
   "execution_count": null,
   "metadata": {},
   "outputs": [],
   "source": [
    "pre_event_product_orbit = apply_orbit_file(pre_event_product_subset)\n",
    "post_event_product_orbit = apply_orbit_file(post_event_product_subset)"
   ]
  },
  {
   "cell_type": "markdown",
   "metadata": {},
   "source": [
    "Thermal Noise Removal"
   ]
  },
  {
   "cell_type": "code",
   "execution_count": null,
   "metadata": {},
   "outputs": [],
   "source": [
    "pre_event_product_tnr = thermal_noise_removal(pre_event_product_orbit)\n",
    "post_event_product_tnr = thermal_noise_removal(post_event_product_orbit)"
   ]
  },
  {
   "cell_type": "markdown",
   "metadata": {},
   "source": [
    "border noise removal"
   ]
  },
  {
   "cell_type": "code",
   "execution_count": null,
   "metadata": {},
   "outputs": [],
   "source": [
    "pre_event_product_bnr = border_noise_removal(pre_event_product_tnr)\n",
    "post_event_product_bnr = border_noise_removal(post_event_product_tnr)"
   ]
  },
  {
   "cell_type": "markdown",
   "metadata": {},
   "source": [
    "radiometric callibration"
   ]
  },
  {
   "cell_type": "code",
   "execution_count": null,
   "metadata": {},
   "outputs": [],
   "source": [
    "pre_event_product_calibrated = radiometric_calibration(pre_event_product_bnr, polarization='VV', pols_selected='VV')\n",
    "post_event_product_calibrated = radiometric_calibration(post_event_product_bnr, polarization='VV', pols_selected='VV')"
   ]
  },
  {
   "cell_type": "code",
   "execution_count": null,
   "metadata": {},
   "outputs": [],
   "source": [
    "# check band names\n",
    "band_names = pre_event_product_calibrated.getBandNames()\n",
    "print(\"Band names: {}\".format(\", \".join(band_names)))"
   ]
  },
  {
   "cell_type": "code",
   "execution_count": null,
   "metadata": {},
   "outputs": [],
   "source": [
    "plotBand(pre_event_product_calibrated, \"Sigma0_VV\", \n",
    "         post_event_product_calibrated, \"Sigma0_VV\", \n",
    "         vmin=0, vmax=1, figsize=(6,4))"
   ]
  },
  {
   "cell_type": "markdown",
   "metadata": {},
   "source": [
    "### speckle filtering"
   ]
  },
  {
   "cell_type": "code",
   "execution_count": null,
   "metadata": {},
   "outputs": [],
   "source": [
    "pre_event_product_speckle_filtered = speckle_filter(pre_event_product_calibrated)\n",
    "post_event_product_speckle_filtered = speckle_filter(post_event_product_calibrated)"
   ]
  },
  {
   "cell_type": "code",
   "execution_count": null,
   "metadata": {},
   "outputs": [],
   "source": [
    "plotBand(pre_event_product_speckle_filtered, \"Sigma0_VV\", \n",
    "         post_event_product_speckle_filtered, \"Sigma0_VV\", \n",
    "         vmin=0, vmax=1, figsize=(6,4))"
   ]
  },
  {
   "cell_type": "markdown",
   "metadata": {},
   "source": [
    "### Terrain correction"
   ]
  },
  {
   "cell_type": "code",

   "source": [
    "pre_event_product_tc = terrain_correction(pre_event_product_speckle_filtered)\n",
    "post_event_product_tc = terrain_correction(post_event_product_speckle_filtered)"
   ]
  },
  {

   "cell_type": "markdown",
   "metadata": {},
   "source": [
    "### Stacking"
   ]
  },
  {
   "cell_type": "code",
   "execution_count": 10,
   "metadata": {},
   "outputs": [
    {
     "name": "stdout",
     "output_type": "stream",
     "text": [
      "\n",
      "100% done.\n"
     ]
    },
    {
     "name": "stderr",
     "output_type": "stream",
     "text": [
      "WARNING: org.esa.snap.collocation.CollocateOp: Reference product selected automatically: Subset_S1A_IW_GRDH_1SDV_20241031T180256_20241031T180321_056350_06E71E_479F_Orb_NR_Cal_Spk_TC\n"
     ]
    }
   ],
   "source": [
    "product_stacked = stack(pre_event_product_tc, post_event_product_tc)"
   ]
  },
  {
   "cell_type": "code",
   "execution_count": 11,
   "metadata": {},
   "outputs": [
    {
     "data": {
      "text/plain": [
       "['Sigma0_VV_M', 'Sigma0_VV_S', 'collocationFlags']"
      ]
     },
     "execution_count": 11,
     "metadata": {},
     "output_type": "execute_result"
    }
   ],
   "source": [
    "abc=list(product_stacked.getBandNames())\n",
    "# abc[0]\n",
    "abc"
   ]
  },
  {
   "cell_type": "code",
   "execution_count": 12,
   "metadata": {},
   "outputs": [
    {
     "name": "stdout",
     "output_type": "stream",
     "text": [
      "\n",
      "100% done.\n"
     ]
    },
    {
     "data": {
      "text/plain": [
       "org.esa.snap.core.datamodel.Product(objectRef=0x7f7a47f1036a)"
      ]
     },
     "execution_count": 12,
     "metadata": {},
     "output_type": "execute_result"
    }
   ],
   "source": [
    "band_difference(product_stacked)"

   "cell_type": "code",
   "execution_count": null,
   "metadata": {},
   "outputs": [],
   "source": [
    "plotBand(pre_event_product_tc, \"Sigma0_VV\", \n",
    "         post_event_product_tc, \"Sigma0_VV\", \n",
    "         vmin=0, vmax=0.1, figsize=(6,4))"

   ]
  }
 ],
 "metadata": {
  "kernelspec": {
   "display_name": "snap_env",
   "language": "python",
   "name": "python3"
  },
  "language_info": {
   "codemirror_mode": {
    "name": "ipython",
    "version": 3
   },
   "file_extension": ".py",
   "mimetype": "text/x-python",
   "name": "python",
   "nbconvert_exporter": "python",
   "pygments_lexer": "ipython3",
   "version": "3.9.23"
  }
 },
 "nbformat": 4,
 "nbformat_minor": 2
}
