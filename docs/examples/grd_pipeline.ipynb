{
 "cells": [
  {
   "cell_type": "markdown",
   "metadata": {},
   "source": [
    "** valencia bounding box  \n",
    "{\"type\":\"Polygon\",\"coordinates\":[[[-0.124146,38.953446],[-0.547119,38.953446],[-0.547119,39.481696],[-0.124146,39.481696],[-0.124146,38.953446]]]}  \n",
    "\n",
    "** data   \n",
    "pre-event = 2024-10-07  \n",
    "post-event = 2024-10-31  \n",
    "\n",
    "** Data download from ASF search portal: parameters  \n",
    "    * GRD-HD, ascending, instrument IW, VV+VH pols"
   ]
  },
  {
   "cell_type": "code",
   "execution_count": null,
   "metadata": {},
   "outputs": [],
   "source": [
    "# Importing functions from package--\n",
    "from pysarflow import read_grd_product"
   ]
  },
  {
   "cell_type": "code",
   "execution_count": 2,
   "metadata": {},
   "outputs": [
    {
     "name": "stdout",
     "output_type": "stream",
     "text": [
      "Reading SAR product from: ../data/S1B_IW_GRDH_1SDV_20211223T051122_20211223T051147_030148_039993_5371.SAFE.zip...\n"
     ]
    },
    {
     "name": "stderr",
     "output_type": "stream",
     "text": [
      "3018 [main] INFO hdf.hdflib.HDFLibrary - HDF4 library: \n",
      "3018 [main] INFO hdf.hdflib.HDFLibrary -  successfully loaded.\n",
      "3024 [main] INFO hdf.hdf5lib.H5 - HDF5 library: \n",
      "3025 [main] INFO hdf.hdf5lib.H5 -  successfully loaded.\n",
      "INFO: eu.esa.sar.commons.io.ImageIOFile: Using FileCacheImageInputStream\n"
     ]
    },
    {
     "name": "stdout",
     "output_type": "stream",
     "text": [
      "\tProduct read successfully.\n"
     ]
    },
    {
     "data": {
      "text/plain": [
       "org.esa.snap.core.datamodel.Product(objectRef=0x7fb73dbafd0a)"
      ]
     },
     "execution_count": 2,
     "metadata": {},
     "output_type": "execute_result"
    }
   ],
   "source": [
    "# Path to the .SAFE directory\n",
    "product_path = (\n",
    "    \"../data/S1B_IW_GRDH_1SDV_20211223T051122_20211223T051147_030148_039993_5371.SAFE.zip\"\n",
    ")\n",
    "\n",
    "# reading GRD product\n",
    "read_grd_product(product_path)"
   ]
  }
 ],
 "metadata": {
  "kernelspec": {
   "display_name": "snap_env",
   "language": "python",
   "name": "python3"
  },
  "language_info": {
   "codemirror_mode": {
    "name": "ipython",
    "version": 3
   },
   "file_extension": ".py",
   "mimetype": "text/x-python",
   "name": "python",
   "nbconvert_exporter": "python",
   "pygments_lexer": "ipython3",
   "version": "3.9.23"
  }
 },
 "nbformat": 4,
 "nbformat_minor": 2
}
