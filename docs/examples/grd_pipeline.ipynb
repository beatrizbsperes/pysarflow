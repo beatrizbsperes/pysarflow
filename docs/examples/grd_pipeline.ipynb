{
 "cells": [
  {
   "cell_type": "markdown",
   "metadata": {},
   "source": [
    "### Flood Mapping using Sentinel-1 GRD Workflow \n",
    "This notebook demonstrates a flood mapping workflow using Sentinel-1 Ground Range Detected (GRD) product. The process involves  preprocessing and generating a final flood classification map.   \n",
    "  \n",
    "**Study Area and Data**  \n",
    "1. Area of Interest : Valencia Spain [-0.33563, 39.21757]  \n",
    "2. Data source: ASF (Alaska Satellite Facility) search portal with the following parameters: GRD-HD, ascending orbit, instrument IW, and VV+VH polarizations.  "
   ]
  },
  {
   "cell_type": "code",
   "execution_count": null,
   "metadata": {},
   "outputs": [],
   "source": [
    "# Importing functions from package--\n",
    "from pysarflow import read_grd_product, subset_AOI, apply_orbit_file, thermal_noise_removal, border_noise_removal, \\\n",
    "    radiometric_calibration, speckle_filter,terrain_correction, plotBand,export,\\\n",
    "    maskPermanentWater,generateFloodMask, preprocess_grd_product"
   ]
  },
  {
   "cell_type": "code",
   "execution_count": null,
   "metadata": {},
   "outputs": [],
   "source": [
    "# event_product_path = \"../data/S1A_IW_GRDH_1SDV_20241031T180256_20241031T180321_056350_06E71E_479F.SAFE\"\n",
    "event_product_path = r\"C:\\Users\\Ethel Ogallo\\OneDrive - Universität Salzburg\\Archive\\S1A_IW_GRDH_1SDV_20241031T180256_20241031T180321_056350_06E71E_479F.SAFE\""
   ]
  },
  {
   "cell_type": "markdown",
   "metadata": {},
   "source": [
    "#### Pre-processing"
   ]
  },
  {
   "cell_type": "markdown",
   "metadata": {},
   "source": [
    "**Read grd file and subsetting**"
   ]
  },
  {
   "cell_type": "code",
   "execution_count": null,
   "metadata": {},
   "outputs": [],
   "source": [
    "# read the .SAFE data\n",
    "event_product=read_grd_product(event_product_path)\n",
    "plotBand(event_product, \"Intensity_VV\", \n",
    "         vmin=0, vmax=100000, figsize=(6,4))\n",
    "\n",
    "# clip to AOI\n",
    "aoi_bbox=[-0.547119, 38.953446,-0.124146,39.481696]\n",
    "product_subset=subset_AOI(product=event_product, bbox=aoi_bbox)\n",
    "plotBand(product_subset, \"Intensity_VV\", \n",
    "         vmin=0, vmax=100000, figsize=(8,6))\n"
   ]
  },
  {
   "cell_type": "markdown",
   "metadata": {},
   "source": [
    "**Apply orbit file, thermal noise and border noise removal**"
   ]
  },
  {
   "cell_type": "code",
   "execution_count": null,
   "metadata": {},
   "outputs": [],
   "source": [
    "# apply orbit\n",
    "product_orbit = apply_orbit_file(product_subset)\n",
    "\n",
    "# remove thermal noise\n",
    "product_tnr = thermal_noise_removal(product_orbit)\n",
    "\n",
    "# remove border noise\n",
    "product_bnr = border_noise_removal(product_tnr)"
   ]
  },
  {
   "cell_type": "markdown",
   "metadata": {},
   "source": [
    "**Radiometric callibration**"
   ]
  },
  {
   "cell_type": "code",
   "execution_count": null,
   "metadata": {},
   "outputs": [],
   "source": [
    "product_calibrated = radiometric_calibration(product_bnr, polarization='VV', pols_selected='VV')\n",
    "plotBand(product_calibrated, \"Sigma0_VV\", \n",
    "         vmin=0, vmax=0.1, figsize=(8,6))"
   ]
  },
  {
   "cell_type": "markdown",
   "metadata": {},
   "source": [
    "**Speckle Filtering**"
   ]
  },
  {
   "cell_type": "code",
   "execution_count": null,
   "metadata": {},
   "outputs": [],
   "source": [
    "product_filtered = speckle_filter(product_calibrated)\n",
    "plotBand(product_filtered, \"Sigma0_VV\", \n",
    "         vmin=0, vmax=0.1,figsize=(8,6))"
   ]
  },
  {
   "cell_type": "markdown",
   "metadata": {},
   "source": [
    "**Terrain correction**"
   ]
  },
  {
   "cell_type": "code",
   "execution_count": null,
   "metadata": {},
   "outputs": [],
   "source": [
    "preprocessed_product = terrain_correction(product_filtered)\n",
    "plotBand(preprocessed_product, \"Sigma0_VV\", \n",
    "         vmin=0, vmax=0.1,figsize=(8,6))"
   ]
  },
  {
   "cell_type": "markdown",
   "metadata": {},
   "source": [
    "#### Flood mapping"
   ]
  },
  {
   "cell_type": "code",
   "execution_count": null,
   "metadata": {},
   "outputs": [],
   "source": [
    "# mask out open permanent water\n",
    "product_perm_water= maskPermanentWater(preprocessed_product)\n",
    "\n",
    "# Apply threshold to mask flooded area \n",
    "product_flood_mapping = generateFloodMask(product_perm_water, threshold=0.04)"
   ]
  },
  {
   "cell_type": "markdown",
   "metadata": {},
   "source": [
    "**Exporting result**"
   ]
  },
  {
   "cell_type": "code",
   "execution_count": null,
   "metadata": {},
   "outputs": [],
   "source": [
    "output_file_path=\"./flood_map.tif\"\n",
    "export(product_flood_mapping,output_file_path)"
   ]
  },
  {
   "cell_type": "markdown",
   "metadata": {},
   "source": [
    "**Visualization**"
   ]
  },
  {
   "cell_type": "code",
   "execution_count": null,
   "metadata": {},
   "outputs": [],
   "source": [
    "import rasterio\n",
    "import matplotlib.pyplot as plt\n",
    "import numpy as np\n",
    "from matplotlib.colors import ListedColormap, BoundaryNorm\n",
    "\n",
    "# Open with rasterio\n",
    "with rasterio.open(output_file_path) as src:\n",
    "    data = src.read(1)  # first band\n",
    "    profile = src.profile\n",
    "\n",
    "# Define classes\n",
    "classes = {\n",
    "    -9999: \"NoData\",\n",
    "    0: \"Permanent Water\",\n",
    "    1: \"Others\",\n",
    "    2: \"Flood\"\n",
    "}\n",
    "\n",
    "# Define colors in the same order\n",
    "colors = [\"#313333\", \"#347fcf\", \"#0fd194\", \"#c7141d\"] \n",
    "cmap = ListedColormap(colors)\n",
    "\n",
    "# Define boundaries and normalization\n",
    "bounds = [-9999, -0.5, 0.5, 1.5, 2.5]  # cutoffs between classes\n",
    "norm = BoundaryNorm(bounds, cmap.N)\n",
    "\n",
    "# Plot\n",
    "plt.figure(figsize=(8, 6))\n",
    "im = plt.imshow(data, cmap=cmap, norm=norm)\n",
    "cbar = plt.colorbar(im, ticks=[-9999, 0, 1, 2])\n",
    "cbar.ax.set_yticklabels([classes[c] for c in [-9999, 0, 1, 2]])\n",
    "plt.title(\"Flood Classification Map\")\n",
    "plt.axis(\"off\")\n",
    "plt.show()\n"
   ]
  },
  {
   "cell_type": "markdown",
   "metadata": {},
   "source": [
    "#### Additional: Run all preprocessing steps with one function"
   ]
  },
  {
   "cell_type": "code",
   "execution_count": null,
   "metadata": {},
   "outputs": [],
   "source": [
    "# config = {\n",
    "#     \"aoi_bbox\": [-0.547119, 38.953446,-0.124146,39.481696],   # optional\n",
    "#     \"polarization\": \"VV\",\n",
    "#     \"pols_selected\": \"VV\",\n",
    "#     \"filter\": \"Lee\",\n",
    "#     \"filterSizeX\": '7',\n",
    "#     \"filterSizeY\": '7',\n",
    "#     \"demName\": 'SRTM 3Sec',\n",
    "#     \"pixelSpacingInMeter\": '10',\n",
    "#     \"demResamplingMethod\": \"BILINEAR_INTERPOLATION\",\n",
    "#     \"imgResamplingMethod\": \"BICUBIC_INTERPOLATION\"\n",
    "# }\n",
    "\n",
    "# preprocessed_product=preprocess_grd_product(event_product_path, config)"
   ]
  }
 ],
 "metadata": {
  "kernelspec": {
   "display_name": "snap_env",
   "language": "python",
   "name": "python3"
  },
  "language_info": {
   "codemirror_mode": {
    "name": "ipython",
    "version": 3
   },
   "file_extension": ".py",
   "mimetype": "text/x-python",
   "name": "python",
   "nbconvert_exporter": "python",
   "pygments_lexer": "ipython3",
   "version": "3.9.23"
  }
 },
 "nbformat": 4,
 "nbformat_minor": 2
}
