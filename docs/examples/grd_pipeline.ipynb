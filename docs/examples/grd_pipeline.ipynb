{
 "cells": [
  {
   "cell_type": "markdown",
   "metadata": {},
   "source": [
    "** valencia bounding box  \n",
    "{\"type\":\"Polygon\",\"coordinates\":[[[-0.124146,38.953446],[-0.547119,38.953446],[-0.547119,39.481696],[-0.124146,39.481696],[-0.124146,38.953446]]]}  \n",
    "\n",
    "** data   \n",
    "pre-event = 2024-10-07  \n",
    "post-event = 2024-10-31  \n",
    "\n",
    "** Data download from ASF search portal: parameters  \n",
    "    * GRD-HD, ascending, instrument IW, VV+VH pols"
   ]
  },
  {
   "cell_type": "code",
   "execution_count": null,
   "metadata": {},
   "outputs": [],
   "source": [
    "# Importing functions from package--\n",
    "from pysarflow import read_grd_product, subset_AOI, apply_orbit_file, thermal_noise_removal, border_noise_removal, radiometric_calibration, speckle_filter,terrain_correction, stack, band_difference, plotBand, conversion_to_db"
   ]
  },
  {
   "cell_type": "markdown",
   "metadata": {},
   "source": [
    "read grd file"
   ]
  },
  {
   "cell_type": "code",
   "execution_count": null,
   "metadata": {},
   "outputs": [],
   "source": [
    "# Path to the .SAFE directory\n",
    "# pre_event_product_path = \"../data/S1A_IW_GRDH_1SDV_20241007T180256_20241007T180321_056000_06D943_D46B.SAFE\"\n",
    "pre_event_product_path = r\"C:\\Users\\Ethel Ogallo\\OneDrive - Universität Salzburg\\Archive\\S1A_IW_GRDH_1SDV_20241007T180256_20241007T180321_056000_06D943_D46B.SAFE\"\n",
    "# post_event_product_path = \"../data/S1A_IW_GRDH_1SDV_20241031T180256_20241031T180321_056350_06E71E_479F.SAFE\"\n",
    "post_event_product_path = r\"C:\\Users\\Ethel Ogallo\\OneDrive - Universität Salzburg\\Archive\\S1A_IW_GRDH_1SDV_20241031T180256_20241031T180321_056350_06E71E_479F.SAFE\"\n",
    "\n",
    "# reading GRD product\n",
    "pre_event_product=read_grd_product(pre_event_product_path)\n",
    "post_event_product=read_grd_product(post_event_product_path)"
   ]
  },
  {
   "cell_type": "markdown",
   "metadata": {},
   "source": [
    "subsetting"
   ]
  },
  {
   "cell_type": "code",
   "execution_count": null,
   "metadata": {},
   "outputs": [],
   "source": [
    "aoi_bbox=[-0.547119, 38.953446,-0.124146,39.481696]\n",
    "pre_event_product_subset=subset_AOI(product=pre_event_product, bbox=aoi_bbox)\n",
    "post_event_product_subset=subset_AOI(product=post_event_product, bbox=aoi_bbox)"
   ]
  },
  {
   "cell_type": "markdown",
   "metadata": {},
   "source": [
    "apply orbit file to subset"
   ]
  },
  {
   "cell_type": "code",
   "execution_count": null,
   "metadata": {},
   "outputs": [],
   "source": [
    "plotBand(pre_event_product_subset, \"Intensity_VV\", \n",
    "         post_event_product_subset, \"Intensity_VV\", \n",
    "         vmin=0, vmax=100000, figsize=(6,4))"
   ]
  },
  {
   "cell_type": "code",
   "execution_count": null,
   "metadata": {},
   "outputs": [],
   "source": [
    "pre_event_product_orbit = apply_orbit_file(pre_event_product_subset)\n",
    "post_event_product_orbit = apply_orbit_file(post_event_product_subset)"
   ]
  },
  {
   "cell_type": "markdown",
   "metadata": {},
   "source": [
    "Thermal Noise Removal"
   ]
  },
  {
   "cell_type": "code",
   "execution_count": null,
   "metadata": {},
   "outputs": [],
   "source": [
    "pre_event_product_tnr = thermal_noise_removal(pre_event_product_orbit)\n",
    "post_event_product_tnr = thermal_noise_removal(post_event_product_orbit)"
   ]
  },
  {
   "cell_type": "markdown",
   "metadata": {},
   "source": [
    "border noise removal"
   ]
  },
  {
   "cell_type": "code",
   "execution_count": null,
   "metadata": {},
   "outputs": [],
   "source": [
    "pre_event_product_bnr = border_noise_removal(pre_event_product_tnr)\n",
    "post_event_product_bnr = border_noise_removal(post_event_product_tnr)"
   ]
  },
  {
   "cell_type": "markdown",
   "metadata": {},
   "source": [
    "radiometric callibration"
   ]
  },
  {
   "cell_type": "code",
   "execution_count": null,
   "metadata": {},
   "outputs": [],
   "source": [
    "pre_event_product_calibrated = radiometric_calibration(pre_event_product_bnr, polarization='VV', pols_selected='VV')\n",
    "post_event_product_calibrated = radiometric_calibration(post_event_product_bnr, polarization='VV', pols_selected='VV')"
   ]
  },
  {
   "cell_type": "code",
   "execution_count": null,
   "metadata": {},
   "outputs": [],
   "source": [
    "plotBand(pre_event_product_calibrated, \"Sigma0_VV\", \n",
    "         post_event_product_calibrated, \"Sigma0_VV\", \n",
    "         vmin=0, vmax=0.1, figsize=(6,4))"
   ]
  },
  {
   "cell_type": "markdown",
   "metadata": {},
   "source": [
    "### speckle filtering"
   ]
  },
  {
   "cell_type": "code",
   "execution_count": null,
   "metadata": {},
   "outputs": [],
   "source": [
    "pre_event_product_filtered = speckle_filter(pre_event_product_calibrated)\n",
    "post_event_product_filtered = speckle_filter(post_event_product_calibrated)\n"
   ]
  },
  {
   "cell_type": "markdown",
   "metadata": {},
   "source": [
    "convert to dB"
   ]
  },
  {
   "cell_type": "code",
   "execution_count": null,
   "metadata": {},
   "outputs": [],
   "source": [
    "# pre_event_product_dB = conversion_to_db(pre_event_product_speckle_filtered)\n",
    "# post_event_product_dB = conversion_to_db(post_event_product_speckle_filtered)"
   ]
  },
  {
   "cell_type": "code",
   "execution_count": null,
   "metadata": {},
   "outputs": [],
   "source": [
    "plotBand(pre_event_product_filtered, \"Sigma0_VV\", \n",
    "         post_event_product_filtered, \"Sigma0_VV\", \n",
    "         vmin=0, vmax=0.1,figsize=(6,4))"
   ]
  },
  {
   "cell_type": "markdown",
   "metadata": {},
   "source": [
    "### Terrain correction"
   ]
  },
  {
   "cell_type": "code",
   "execution_count": null,
   "metadata": {},
   "outputs": [],
   "source": [
    "pre_event_product_tc = terrain_correction(pre_event_product_filtered, sourceBands='Sigma0_VV')\n",
    "post_event_product_tc = terrain_correction(post_event_product_filtered,  sourceBands='Sigma0_VV')"
   ]
  },
  {
   "cell_type": "code",
   "execution_count": null,
   "metadata": {},
   "outputs": [],
   "source": [
    "plotBand(pre_event_product_tc, \"Sigma0_VV\", \n",
    "         post_event_product_tc, \"Sigma0_VV\", \n",
    "         vmin=0, vmax=0.1,figsize=(6,4))"
   ]
  },
  {
   "cell_type": "markdown",
   "metadata": {},
   "source": [
    "### Stacking"
   ]
  },
  {
   "cell_type": "code",
   "execution_count": null,
   "metadata": {},
   "outputs": [],
   "source": [
    "product_stacked = stack(pre_event_product_tc, post_event_product_tc)"
   ]
  },
  {
   "cell_type": "code",
   "execution_count": null,
   "metadata": {},
   "outputs": [],
   "source": [
    "# abc=list(product_stacked.getBandNames())"
   ]
  },
  {
   "cell_type": "code",
   "execution_count": null,
   "metadata": {},
   "outputs": [],
   "source": [
    "band_diff=band_difference(product_stacked)"
   ]
  },
  {
   "cell_type": "code",
   "execution_count": null,
   "metadata": {},
   "outputs": [],
   "source": [
    "list(band_diff.getBandNames())"
   ]
  },
  {
   "cell_type": "code",
   "execution_count": null,
   "metadata": {},
   "outputs": [],
   "source": [
    "plotBand(band_diff, \"Difference_Band\", \n",
    "         vmin=0, vmax=0.1, figsize=(6,4))"
   ]
  },
  {
   "cell_type": "markdown",
   "metadata": {},
   "source": [
    "Identifying known permanent water areas"
   ]
  },
  {
   "cell_type": "code",
   "execution_count": null,
   "metadata": {},
   "outputs": [],
   "source": [
    "from esa_snappy import Product, ProductIO, ProductUtils, WKTReader, HashMap, GPF, jpy"
   ]
  },
  {
   "cell_type": "code",
   "execution_count": null,
   "metadata": {},
   "outputs": [],
   "source": [
    "def maskKnownWater(product):\n",
    "    # Add land cover band\n",
    "    parameters = HashMap()\n",
    "    parameters.put(\"landCoverNames\", \"GlobCover\")\n",
    "    mask_with_land_cover = GPF.createProduct('AddLandCover', parameters,product)\n",
    "    del parameters\n",
    "\n",
    "    # Create binary water band\n",
    "    BandDescriptor = jpy.get_type('org.esa.snap.core.gpf.common.BandMathsOp$BandDescriptor')\n",
    "    parameters = HashMap()\n",
    "    targetBand = BandDescriptor()\n",
    "    targetBand.name = 'BinaryWater'\n",
    "    targetBand.type = 'uint8'\n",
    "    targetBand.expression = '(land_cover_GlobCover == 210) ? 0 : 1'\n",
    "    targetBands = jpy.array('org.esa.snap.core.gpf.common.BandMathsOp$BandDescriptor', 1)\n",
    "    targetBands[0] = targetBand\n",
    "    parameters.put('targetBands', targetBands)\n",
    "    water_mask = GPF.createProduct('BandMaths', parameters, mask_with_land_cover)\n",
    "\n",
    "    del parameters\n",
    "    parameters = HashMap()\n",
    "    BandDescriptor = jpy.get_type('org.esa.snap.core.gpf.common.BandMathsOp$BandDescriptor')\n",
    "    try:\n",
    "        water_mask.addBand(product.getBand(\"Difference_Band\"))\n",
    "    except:\n",
    "        pass\n",
    "    targetBand = BandDescriptor()\n",
    "    targetBand.name = \"Difference_Band_Masked\"\n",
    "    targetBand.type = 'float32'\n",
    "    targetBand.expression = '(BinaryWater == 1) ? Difference_Band : 0'\n",
    "    targetBands = jpy.array('org.esa.snap.core.gpf.common.BandMathsOp$BandDescriptor', 1)\n",
    "    targetBands[0] = targetBand\n",
    "    parameters.put('targetBands', targetBands)\n",
    "    product_masked = GPF.createProduct('BandMaths', parameters, water_mask)\n",
    "    return product_masked"
   ]
  },
  {
   "cell_type": "code",
   "execution_count": null,
   "metadata": {},
   "outputs": [],
   "source": [
    "band_diff_masked= maskKnownWater(band_diff)"
   ]
  },
  {
   "cell_type": "code",
   "execution_count": null,
   "metadata": {},
   "outputs": [],
   "source": [
    "plotBand(band_diff_masked, \"Difference_Band_Masked\", vmin=0, vmax=0.1, cmap=\"gray\",figsize=(6,4))"
   ]
  },
  {
   "cell_type": "code",
   "execution_count": null,
   "metadata": {},
   "outputs": [],
   "source": [
    "def generateBinaryFloodMasked(product_masked, threshold=0.1):\n",
    "    parameters = HashMap()\n",
    "    BandDescriptor = jpy.get_type('org.esa.snap.core.gpf.common.BandMathsOp$BandDescriptor')\n",
    "\n",
    "    targetBand = BandDescriptor()\n",
    "    targetBand.name = 'flooded'\n",
    "    targetBand.type = 'uint8'\n",
    "\n",
    "    # Threshold the masked difference band\n",
    "    targetBand.expression = f'(Difference_Band_Masked > {threshold}) ? 1 : 0'\n",
    "\n",
    "    targetBands = jpy.array('org.esa.snap.core.gpf.common.BandMathsOp$BandDescriptor', 1)\n",
    "    targetBands[0] = targetBand\n",
    "    parameters.put('targetBands', targetBands)\n",
    "\n",
    "    binary_flood = GPF.createProduct('BandMaths', parameters, product_masked)\n",
    "    return binary_flood\n"
   ]
  },
  {
   "cell_type": "code",
   "execution_count": null,
   "metadata": {},
   "outputs": [],
   "source": [
    "binary_flood = generateBinaryFloodMasked(band_diff_masked, threshold=0.04)\n",
    "plotBand(binary_flood, 'flooded', vmin=0, vmax=1, figsize=(6,4))"
   ]
  }
 ],
 "metadata": {
  "kernelspec": {
   "display_name": "snap_env",
   "language": "python",
   "name": "python3"
  },
  "language_info": {
   "codemirror_mode": {
    "name": "ipython",
    "version": 3
   },
   "file_extension": ".py",
   "mimetype": "text/x-python",
   "name": "python",
   "nbconvert_exporter": "python",
   "pygments_lexer": "ipython3",
   "version": "3.9.23"
  }
 },
 "nbformat": 4,
 "nbformat_minor": 2
}
