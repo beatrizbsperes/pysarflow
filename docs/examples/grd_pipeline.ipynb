{
 "cells": [
  {
   "cell_type": "markdown",
   "metadata": {},
   "source": [
    "** valencia bounding box  \n",
    "{\"type\":\"Polygon\",\"coordinates\":[[[-0.124146,38.953446],[-0.547119,38.953446],[-0.547119,39.481696],[-0.124146,39.481696],[-0.124146,38.953446]]]}  \n",
    "\n",
    "** data   \n",
    "pre-event = 2024-10-07  \n",
    "post-event = 2024-10-31  \n",
    "\n",
    "** Data download from ASF search portal: parameters  \n",
    "    * GRD-HD, ascending, instrument IW, VV+VH pols"
   ]
  },
  {
   "cell_type": "code",
   "execution_count": 2,
   "metadata": {},
   "outputs": [],
   "source": [
    "# Importing functions from package--\n",
    "from pysarflow import read_grd_product, subset_AOI, apply_orbit_file, border_noise_removal, radiometric_calibration"
   ]
  },
  {
   "cell_type": "markdown",
   "metadata": {},
   "source": [
    "read grd file"
   ]
  },
  {
   "cell_type": "code",
   "execution_count": 3,
   "metadata": {},
   "outputs": [
    {
     "name": "stdout",
     "output_type": "stream",
     "text": [
      "Reading SAR product from: D:\\Archive\\S1A_IW_GRDH_1SDV_20241007T180256_20241007T180321_056000_06D943_D46B.SAFE...\n",
      "\tProduct read successfully.\n",
      "Reading SAR product from: D:\\Archive\\S1A_IW_GRDH_1SDV_20241031T180256_20241031T180321_056350_06E71E_479F.SAFE...\n",
      "\tProduct read successfully.\n"
     ]
    }
   ],
   "source": [
    "# Path to the .SAFE directory\n",
    "#pre_event_product_path = \"../data/S1A_IW_GRDH_1SDV_20241007T180256_20241007T180321_056000_06D943_D46B.SAFE\"\n",
    "pre_event_product_path = \"D:\\Archive\\S1A_IW_GRDH_1SDV_20241007T180256_20241007T180321_056000_06D943_D46B.SAFE\"\n",
    "#post_event_product_path = \"../data/S1A_IW_GRDH_1SDV_20241007T180256_20241007T180321_056000_06D943_D46B.SAFE\"\n",
    "post_event_product_path = \"D:\\Archive\\S1A_IW_GRDH_1SDV_20241031T180256_20241031T180321_056350_06E71E_479F.SAFE\"\n",
    "\n",
    "# reading GRD product\n",
    "pre_event_product=read_grd_product(pre_event_product_path)\n",
    "post_event_product=read_grd_product(post_event_product_path)"
   ]
  },
  {
   "cell_type": "markdown",
   "metadata": {},
   "source": [
    "subsetting"
   ]
  },
  {
   "cell_type": "code",
   "execution_count": 4,
   "metadata": {},
   "outputs": [
    {
     "name": "stdout",
     "output_type": "stream",
     "text": [
      "\tSubsetting using bounding box: [-0.547119, 38.953446, -0.124146, 39.481696]\n",
      "\tProduct subsetted.\n",
      "\tSubsetting using bounding box: [-0.547119, 38.953446, -0.124146, 39.481696]\n",
      "\tProduct subsetted.\n"
     ]
    }
   ],
   "source": [
    "aoi_bbox=[-0.547119, 38.953446,-0.124146,39.481696]\n",
    "pre_event_product_subset=subset_AOI(product=pre_event_product, bbox=aoi_bbox)\n",
    "post_event_product_subset=subset_AOI(product=post_event_product, bbox=aoi_bbox)"
   ]
  },
  {
   "cell_type": "markdown",
   "metadata": {},
   "source": [
    "apply orbit file to subset"
   ]
  },
  {
   "cell_type": "code",
   "execution_count": 5,
   "metadata": {},
   "outputs": [
    {
     "name": "stdout",
     "output_type": "stream",
     "text": [
      "\tApplying Orbit File...\n",
      "\tOrbit File applied.\n",
      "\tApplying Orbit File...\n",
      "\tOrbit File applied.\n"
     ]
    }
   ],
   "source": [
    "pre_event_product_orbit = apply_orbit_file(pre_event_product_subset)\n",
    "post_event_product_orbit = apply_orbit_file(post_event_product_subset)"
   ]
  },
  {
   "cell_type": "markdown",
   "metadata": {},
   "source": [
    "border noise removal"
   ]
  },
  {
   "cell_type": "code",
   "execution_count": 6,
   "metadata": {},
   "outputs": [
    {
     "name": "stdout",
     "output_type": "stream",
     "text": [
      "\tApplying Orbit File...\n",
      "\tOrbit File applied.\n",
      "\tApplying Orbit File...\n",
      "\tOrbit File applied.\n"
     ]
    }
   ],
   "source": [
    "pre_event_product_border = apply_orbit_file(pre_event_product_orbit)\n",
    "post_event_product_border = apply_orbit_file(post_event_product_orbit)"
   ]
  },
  {
   "cell_type": "markdown",
   "metadata": {},
   "source": [
    "radiometric callibration"
   ]
  },
  {
   "cell_type": "code",
   "execution_count": 7,
   "metadata": {},
   "outputs": [
    {
     "name": "stdout",
     "output_type": "stream",
     "text": [
      "\tRadiometric calibration for polarization(s): VV...\n",
      "\tRadiometric calibration completed.\n",
      "\tRadiometric calibration for polarization(s): VV...\n",
      "\tRadiometric calibration completed.\n"
     ]
    }
   ],
   "source": [
    "pre_event_product_calibrated = radiometric_calibration(pre_event_product_border, polarization='VV', pols_selected='VV')\n",
    "post_event_product_calibrated = radiometric_calibration(post_event_product_border, polarization='VV', pols_selected='VV')"
   ]
  }
 ],
 "metadata": {
  "kernelspec": {
   "display_name": "snap_env",
   "language": "python",
   "name": "python3"
  },
  "language_info": {
   "codemirror_mode": {
    "name": "ipython",
    "version": 3
   },
   "file_extension": ".py",
   "mimetype": "text/x-python",
   "name": "python",
   "nbconvert_exporter": "python",
   "pygments_lexer": "ipython3",
   "version": "3.9.23"
  }
 },
 "nbformat": 4,
 "nbformat_minor": 2
}
