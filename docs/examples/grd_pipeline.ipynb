{
 "cells": [
  {
   "cell_type": "markdown",
   "metadata": {},
   "source": [
    "** valencia bounding box  \n",
    "{\"type\":\"Polygon\",\"coordinates\":[[[-0.124146,38.953446],[-0.547119,38.953446],[-0.547119,39.481696],[-0.124146,39.481696],[-0.124146,38.953446]]]}  \n",
    "\n",
    "** data   \n",
    "pre-event = 2024-10-07  \n",
    "post-event = 2024-10-31  \n",
    "\n",
    "** Data download from ASF search portal: parameters  \n",
    "    * GRD-HD, ascending, instrument IW, VV+VH pols"
   ]
  },
  {
   "cell_type": "code",
   "execution_count": 1,
   "metadata": {},
   "outputs": [
    {
     "name": "stderr",
     "output_type": "stream",
     "text": [
      "Error while parsing JAI registry file \"file:/Applications/esa-snap/snap/modules/org.esa.snap.snap-core/org-geotools/gt-coverage.jar!/META-INF/registryFile.jai\" :\n",
      "Error in registry file at line number #31\n",
      "A descriptor is already registered against the name \"org.geotools.ColorReduction\" under registry mode \"rendered\"\n",
      "Error in registry file at line number #32\n",
      "A descriptor is already registered against the name \"org.geotools.ColorInversion\" under registry mode \"rendered\"\n",
      "Error while parsing JAI registry file \"file:/Applications/esa-snap/snap/modules/org.esa.snap.snap-core/org-jaitools/jt-zonalstats.jar!/META-INF/registryFile.jai\" :\n",
      "Error in registry file at line number #4\n",
      "A descriptor is already registered against the name \"ZonalStats\" under registry mode \"rendered\"\n",
      "Error while parsing JAI registry file \"file:/Applications/esa-snap/snap/modules/org.esa.snap.snap-gpf/org-jaitools/jt-vectorize.jar!/META-INF/registryFile.jai\" :\n",
      "Error in registry file at line number #4\n",
      "A descriptor is already registered against the name \"Vectorize\" under registry mode \"rendered\"\n",
      "INFO: org.esa.snap.core.gpf.operators.tooladapter.ToolAdapterIO: Initializing external tool adapters\n",
      "INFO: org.esa.snap.core.util.EngineVersionCheckActivator: Please check regularly for new updates for the best SNAP experience.\n"
     ]
    }
   ],
   "source": [
    "# Importing functions from package--\n",
    "from pysarflow import read_grd_product, subset_AOI, apply_orbit_file, thermal_noise_removal, border_noise_removal, radiometric_calibration, speckle_filter,terrain_correction, stack"
   ]
  },
  {
   "cell_type": "markdown",
   "metadata": {},
   "source": [
    "read grd file"
   ]
  },
  {
   "cell_type": "code",
   "execution_count": 2,
   "metadata": {},
   "outputs": [
    {
     "name": "stdout",
     "output_type": "stream",
     "text": [
      "Reading SAR product from: ../data/S1A_IW_GRDH_1SDV_20241007T180256_20241007T180321_056000_06D943_D46B.SAFE...\n"
     ]
    },
    {
     "name": "stderr",
     "output_type": "stream",
     "text": [
      "INFO: eu.esa.sar.commons.io.ImageIOFile: Using FileCacheImageInputStream\n",
      "INFO: eu.esa.sar.commons.io.ImageIOFile: Using FileCacheImageInputStream\n"
     ]
    },
    {
     "name": "stdout",
     "output_type": "stream",
     "text": [
      "\tProduct read successfully.\n",
      "Reading SAR product from: ../data/S1A_IW_GRDH_1SDV_20241007T180256_20241007T180321_056000_06D943_D46B.SAFE...\n",
      "\tProduct read successfully.\n"
     ]
    },
    {
     "name": "stderr",
     "output_type": "stream",
     "text": [
      "INFO: eu.esa.sar.commons.io.ImageIOFile: Using FileCacheImageInputStream\n",
      "INFO: eu.esa.sar.commons.io.ImageIOFile: Using FileCacheImageInputStream\n"
     ]
    }
   ],
   "source": [
    "# Path to the .SAFE directory\n",
    "pre_event_product_path = \"../data/S1A_IW_GRDH_1SDV_20241007T180256_20241007T180321_056000_06D943_D46B.SAFE\"\n",
    "# pre_event_product_path = \"D:\\Archive\\S1A_IW_GRDH_1SDV_20241007T180256_20241007T180321_056000_06D943_D46B.SAFE\"\n",
    "post_event_product_path = \"../data/S1A_IW_GRDH_1SDV_20241007T180256_20241007T180321_056000_06D943_D46B.SAFE\"\n",
    "# post_event_product_path = \"D:\\Archive\\S1A_IW_GRDH_1SDV_20241031T180256_20241031T180321_056350_06E71E_479F.SAFE\"\n",
    "\n",
    "# reading GRD product\n",
    "pre_event_product=read_grd_product(pre_event_product_path)\n",
    "post_event_product=read_grd_product(post_event_product_path)"
   ]
  },
  {
   "cell_type": "markdown",
   "metadata": {},
   "source": [
    "subsetting"
   ]
  },
  {
   "cell_type": "code",
   "execution_count": 3,
   "metadata": {},
   "outputs": [
    {
     "name": "stdout",
     "output_type": "stream",
     "text": [
      "\tSubsetting using bounding box: [-0.547119, 38.953446, -0.124146, 39.481696]\n",
      "\n",
      "100% done.\n",
      "\tProduct subsetted.\n",
      "\tSubsetting using bounding box: [-0.547119, 38.953446, -0.124146, 39.481696]\n",
      "\n",
      "100% done.\n",
      "\tProduct subsetted.\n"
     ]
    }
   ],
   "source": [
    "aoi_bbox=[-0.547119, 38.953446,-0.124146,39.481696]\n",
    "pre_event_product_subset=subset_AOI(product=pre_event_product, bbox=aoi_bbox)\n",
    "post_event_product_subset=subset_AOI(product=post_event_product, bbox=aoi_bbox)"
   ]
  },
  {
   "cell_type": "markdown",
   "metadata": {},
   "source": [
    "apply orbit file to subset"
   ]
  },
  {
   "cell_type": "code",
   "execution_count": 4,
   "metadata": {},
   "outputs": [
    {
     "name": "stdout",
     "output_type": "stream",
     "text": [
      "\tApplying Orbit File...\n",
      "\n",
      "100% done.\n",
      "\tOrbit File applied.\n",
      "\tApplying Orbit File...\n",
      "\n",
      "100% done.\n",
      "\tOrbit File applied.\n"
     ]
    }
   ],
   "source": [
    "pre_event_product_orbit = apply_orbit_file(pre_event_product_subset)\n",
    "post_event_product_orbit = apply_orbit_file(post_event_product_subset)"
   ]
  },
  {
   "cell_type": "markdown",
   "metadata": {},
   "source": [
    "Thermal Noise Removal"
   ]
  },
  {
   "cell_type": "code",
   "execution_count": 5,
   "metadata": {},
   "outputs": [
    {
     "name": "stdout",
     "output_type": "stream",
     "text": [
      "\tPerforming thermal noise removal...\n",
      "\n",
      "100% done.\n",
      "\tThermal noise removed.\n",
      "\tPerforming thermal noise removal...\n",
      "\n",
      "100% done.\n",
      "\tThermal noise removed.\n"
     ]
    }
   ],
   "source": [
    "pre_event_product_tnr = thermal_noise_removal(pre_event_product_orbit)\n",
    "post_event_product_tnr = thermal_noise_removal(post_event_product_orbit)"
   ]
  },
  {
   "cell_type": "markdown",
   "metadata": {},
   "source": [
    "border noise removal"
   ]
  },
  {
   "cell_type": "code",
   "execution_count": 6,
   "metadata": {},
   "outputs": [
    {
     "name": "stdout",
     "output_type": "stream",
     "text": [
      "\tPerforming border noise removal...\n",
      "version = 3.8\n",
      "\n",
      "100% done.\n",
      "\tBorder noise removed.\n",
      "\tPerforming border noise removal...\n",
      "version = 3.8\n",
      "\n",
      "100% done.\n",
      "\tBorder noise removed.\n"
     ]
    }
   ],
   "source": [
    "pre_event_product_bnr = border_noise_removal(pre_event_product_tnr)\n",
    "post_event_product_bnr = border_noise_removal(post_event_product_tnr)"
   ]
  },
  {
   "cell_type": "markdown",
   "metadata": {},
   "source": [
    "radiometric callibration"
   ]
  },
  {
   "cell_type": "code",
   "execution_count": 7,
   "metadata": {},
   "outputs": [
    {
     "name": "stdout",
     "output_type": "stream",
     "text": [
      "\tRadiometric calibration for polarization(s): VV...\n",
      "\n",
      "100% done.\n",
      "\tRadiometric calibration completed.\n",
      "\tRadiometric calibration for polarization(s): VV...\n",
      "\n",
      "100% done.\n",
      "\tRadiometric calibration completed.\n"
     ]
    }
   ],
   "source": [
    "pre_event_product_calibrated = radiometric_calibration(pre_event_product_bnr, polarization='VV', pols_selected='VV')\n",
    "post_event_product_calibrated = radiometric_calibration(post_event_product_bnr, polarization='VV', pols_selected='VV')"
   ]
  },
  {
   "cell_type": "markdown",
   "metadata": {},
   "source": [
    "### speckle filtering"
   ]
  },
  {
   "cell_type": "code",
   "execution_count": 8,
   "metadata": {},
   "outputs": [
    {
     "name": "stdout",
     "output_type": "stream",
     "text": [
      "\n",
      "100% done.\n",
      "\tSpeckle filter completed.\n",
      "\n",
      "100% done.\n",
      "\tSpeckle filter completed.\n"
     ]
    }
   ],
   "source": [
    "pre_event_product_speckle_filtered = speckle_filter(pre_event_product_calibrated)\n",
    "post_event_product_speckle_filtered = speckle_filter(post_event_product_calibrated)\n"
   ]
  },
  {
   "cell_type": "markdown",
   "metadata": {},
   "source": [
    "### Terrain correction"
   ]
  },
  {
   "cell_type": "code",
   "execution_count": 9,
   "metadata": {},
   "outputs": [
    {
     "name": "stdout",
     "output_type": "stream",
     "text": [
      "\n",
      "100% done.\n",
      "\tTerrain correction completed.\n",
      "\n",
      "100% done.\n",
      "\tTerrain correction completed.\n"
     ]
    }
   ],
   "source": [
    "pre_event_product_tc = terrain_correction(pre_event_product_speckle_filtered)\n",
    "post_event_product_tc = terrain_correction(post_event_product_speckle_filtered)"
   ]
  },
  {
   "cell_type": "markdown",
   "metadata": {},
   "source": [
    "### Stacking"
   ]
  },
  {
   "cell_type": "code",
   "execution_count": 11,
   "metadata": {},
   "outputs": [
    {
     "name": "stdout",
     "output_type": "stream",
     "text": [
      "\n",
      "100% done.\n"
     ]
    }
   ],
   "source": [
    "product_stacked = stack(pre_event_product_tc, post_event_product_tc)"
   ]
  }
 ],
 "metadata": {
  "kernelspec": {
   "display_name": "snap_env",
   "language": "python",
   "name": "python3"
  },
  "language_info": {
   "codemirror_mode": {
    "name": "ipython",
    "version": 3
   },
   "file_extension": ".py",
   "mimetype": "text/x-python",
   "name": "python",
   "nbconvert_exporter": "python",
   "pygments_lexer": "ipython3",
   "version": "3.9.23"
  }
 },
 "nbformat": 4,
 "nbformat_minor": 2
}
