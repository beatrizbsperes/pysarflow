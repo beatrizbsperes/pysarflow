{
 "cells": [
  {
   "cell_type": "markdown",
   "metadata": {},
   "source": [
    "** valencia bounding box  \n",
    "{\"type\":\"Polygon\",\"coordinates\":[[[-0.124146,38.953446],[-0.547119,38.953446],[-0.547119,39.481696],[-0.124146,39.481696],[-0.124146,38.953446]]]}  \n",
    "\n",
    "** data   \n",
    "pre-event = 2024-10-07  \n",
    "post-event = 2024-10-31  \n",
    "\n",
    "** Data download from ASF search portal: parameters  \n",
    "    * GRD-HD, ascending, instrument IW, VV+VH pols"
   ]
  },
  {
   "cell_type": "code",
   "execution_count": null,
   "metadata": {},
   "outputs": [],
   "source": [
    "# Importing functions from package--\n",
    "from pysarflow import read_grd_product, subset_AOI, apply_orbit_file, thermal_noise_removal, border_noise_removal, \\\n",
    "    radiometric_calibration, speckle_filter,terrain_correction, stack, band_difference, plotBand, conversion_to_db,export,\\\n",
    "    maskPermanentWater,generateFloodMask, convert_0_to_nan"
   ]
  },
  {
   "cell_type": "markdown",
   "metadata": {},
   "source": [
    "Read grd file"
   ]
  },
  {
   "cell_type": "code",
   "execution_count": null,
   "metadata": {},
   "outputs": [],
   "source": [
    "# Path to the .SAFE directory\n",
    "event_product_path = \"../data/S1A_IW_GRDH_1SDV_20241031T180256_20241031T180321_056350_06E71E_479F.SAFE\"\n",
    "event_product=read_grd_product(event_product_path)\n",
    "# plotBand(pre_event_product, \"Intensity_VV\", \n",
    "#          post_event_product, \"Intensity_VV\", \n",
    "#          vmin=0, vmax=100000, figsize=(6,4))"
   ]
  },
  {
   "cell_type": "markdown",
   "metadata": {},
   "source": [
    "Subsetting"
   ]
  },
  {
   "cell_type": "code",
   "execution_count": null,
   "metadata": {},
   "outputs": [],
   "source": [
    "aoi_bbox=[-0.547119, 38.953446,-0.124146,39.481696]\n",
    "product_subset=subset_AOI(product=event_product, bbox=aoi_bbox)\n",
    "# plotBand(pre_event_product_subset, \"Intensity_VV\", \n",
    "#          post_event_product_subset, \"Intensity_VV\", \n",
    "#          vmin=0, vmax=10000, figsize=(6,4))"
   ]
  },
  {
   "cell_type": "markdown",
   "metadata": {},
   "source": [
    "Apply orbit file to subset"
   ]
  },
  {
   "cell_type": "code",
   "execution_count": null,
   "metadata": {},
   "outputs": [],
   "source": [
    "# pre_event_product_orbit = apply_orbit_file(pre_event_product_subset)\n",
    "product_orbit = apply_orbit_file(product_subset)"
   ]
  },
  {
   "cell_type": "markdown",
   "metadata": {},
   "source": [
    "Thermal noise removal"
   ]
  },
  {
   "cell_type": "code",
   "execution_count": null,
   "metadata": {},
   "outputs": [],
   "source": [
    "product_tnr = thermal_noise_removal(product_orbit)"
   ]
  },
  {
   "cell_type": "markdown",
   "metadata": {},
   "source": [
    "Border noise removal"
   ]
  },
  {
   "cell_type": "code",
   "execution_count": null,
   "metadata": {},
   "outputs": [],
   "source": [
    "product_bnr = border_noise_removal(product_tnr)"
   ]
  },
  {
   "cell_type": "markdown",
   "metadata": {},
   "source": [
    "Radiometric callibration"
   ]
  },
  {
   "cell_type": "code",
   "execution_count": null,
   "metadata": {},
   "outputs": [],
   "source": [
    "product_calibrated = radiometric_calibration(product_bnr, polarization='VV', pols_selected='VV')\n",
    "# plotBand(pre_event_product_calibrated, \"Sigma0_VV\", \n",
    "#          post_event_product_calibrated, \"Sigma0_VV\", \n",
    "#          vmin=0, vmax=0.1, figsize=(6,4))"
   ]
  },
  {
   "cell_type": "markdown",
   "metadata": {},
   "source": [
    "Speckle Filtering"
   ]
  },
  {
   "cell_type": "code",
   "execution_count": null,
   "metadata": {},
   "outputs": [],
   "source": [
    "product_filtered = speckle_filter(product_calibrated)\n",
    "# plotBand(pre_event_product_filtered, \"Sigma0_VV_db\", \n",
    "#          post_event_product_filtered, \"Sigma0_VV_db\", \n",
    "#          vmin=0, vmax=1,figsize=(6,4))\n"
   ]
  },
  {
   "cell_type": "markdown",
   "metadata": {},
   "source": [
    "### Terrain correction"
   ]
  },
  {
   "cell_type": "code",
   "execution_count": null,
   "metadata": {},
   "outputs": [],
   "source": [
    "product_tc = terrain_correction(product_filtered,  sourceBands='Sigma0_VV')\n",
    "\n",
    "# product_tc_updated=convert_0_to_nan(product_tc)\n",
    "# plotBand(pre_event_product_tc, \"Sigma0_VV_db\", \n",
    "#          post_event_product_tc, \"Sigma0_VV_db\", \n",
    "#          vmin=0, vmax=0.1,figsize=(6,4))"
   ]
  },
  {
   "cell_type": "markdown",
   "metadata": {},
   "source": [
    "Identifying known permanent water areas"
   ]
  },
  {
   "cell_type": "code",
   "execution_count": null,
   "metadata": {},
   "outputs": [],
   "source": [
    "product_perm_water= maskPermanentWater(product_tc)"
   ]
  },
  {
   "cell_type": "code",
   "execution_count": null,
   "metadata": {},
   "outputs": [],
   "source": [
    "product_flood_mapping = generateFloodMask(product_perm_water, threshold=0.04)\n",
    "# plotBand(binary_flood, 'flooded', vmin=0, vmax=1, figsize=(6,4))"
   ]
  },
  {
   "cell_type": "code",
   "execution_count": null,
   "metadata": {},
   "outputs": [],
   "source": [
    "export(product_flood_mapping,\"./binary_floodinggg.tif\")"
   ]
  }
 ],
 "metadata": {
  "kernelspec": {
   "display_name": "snap_env",
   "language": "python",
   "name": "python3"
  },
  "language_info": {
   "codemirror_mode": {
    "name": "ipython",
    "version": 3
   },
   "file_extension": ".py",
   "mimetype": "text/x-python",
   "name": "python",
   "nbconvert_exporter": "python",
   "pygments_lexer": "ipython3",
   "version": "3.9.23"
  }
 },
 "nbformat": 4,
 "nbformat_minor": 2
}
