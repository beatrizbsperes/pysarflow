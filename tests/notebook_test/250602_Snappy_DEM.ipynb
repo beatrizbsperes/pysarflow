{
 "cells": [
  {
   "cell_type": "code",
   "execution_count": 124,
   "id": "cabe44f2-8551-4785-b4dd-abb579535757",
   "metadata": {},
   "outputs": [],
   "source": [
    "#import sys\n",
    "#sys.argv.extend(['-J-Xmx4G'])  \n",
    "\n",
    "import os\n",
    "import esa_snappy\n",
    "from esa_snappy import GPF\n",
    "from esa_snappy import ProductIO, GeoPos, PixelPos, WKTReader\n",
    "from esa_snappy import HashMap\n",
    "from esa_snappy import jpy\n",
    "import subprocess\n",
    "from time import *\n",
    "import numpy as np\n",
    "from shapely.geometry import Point, Polygon\n",
    "import geopandas as gpd\n",
    "\n",
    "HashMap = jpy.get_type('java.util.HashMap')\n",
    "#parameters = HashMap()"
   ]
  },
  {
   "cell_type": "markdown",
   "id": "1d7b0cd8-a56c-462f-a609-c839bf53b237",
   "metadata": {},
   "source": [
    "Inputs have to be:\n",
    "- .SAFE folders\n",
    "- SLC data\n",
    "- IW beam mode"
   ]
  },
  {
   "cell_type": "markdown",
   "id": "4b43b446-614e-4c6a-b098-e4921aa13b31",
   "metadata": {},
   "source": [
    "# **Reading and getting information**"
   ]
  },
  {
   "cell_type": "code",
   "execution_count": 125,
   "id": "8212e38e-24a9-4f0e-8403-588106956667",
   "metadata": {},
   "outputs": [],
   "source": [
    "a = '_data\\S1A_IW_SLC__1SDV_20250519T184325_20250519T184352_059267_075AD4_7DCB.SAFE' #iceland 2025\n",
    "b = '_data\\S1C_IW_SLC__1SDV_20250520T183354_20250520T183421_002418_005114_74D2.SAFE'\n",
    "\n",
    "#c = '_data\\S1B_IW_SLC__1SDV_20190519T074026_20190519T074056_016310_01EB23_6796.SAFE' #iceland 2019\n",
    "#d = '_data\\S1A_IW_SLC__1SDV_20190515T184306_20190515T184332_027242_03124F_138F.SAFE'\n",
    "\n",
    "e = '_data\\S1A_IW_SLC__1SDV_20211219T191349_20211219T191419_041082_04E179_123E.SAFE' #spain\n",
    "f = '_data\\S1B_IW_SLC__1SDV_20210908T191308_20210908T191338_028611_036A16_4F4E.SAFE'"
   ]
  },
  {
   "cell_type": "code",
   "execution_count": 126,
   "id": "ece79a87-9e78-4ecd-82a6-976236ca3524",
   "metadata": {},
   "outputs": [],
   "source": [
    "def extract_info(product_path):\n",
    "    product = read_product(product_path)\n",
    "    print(\"Product name:\", product.getName())\n",
    "    print(\"Product type:\", product.getProductType())\n",
    "    print(\"Description:\", product.getDescription())\n",
    "    #print(\"Beam Mode:\", check_beam_mode(product_path))\n",
    "    print(\"Scene width:\", product.getSceneRasterWidth())\n",
    "    print(\"Scene height:\", product.getSceneRasterHeight())\n",
    "\n",
    "    metadata = product.getMetadataRoot()\n",
    "    print(\"Start time:\", product.getStartTime())\n",
    "    print(\"End time:\", product.getEndTime())\n",
    "\n",
    "    print(\"\\n Bands\")\n",
    "    count = 0\n",
    "    band_names = product.getBandNames()\n",
    "    number_bands=len(list(band_names))\n",
    "    print(\"Number of bands:\", number_bands)\n",
    "    while count<number_bands:\n",
    "        band = product.getBand(band_names[count])\n",
    "        print(\"Band name:\", band.getName())\n",
    "        count = count + 1   \n",
    "    product.dispose()\n",
    "    print(\"\\n\")\n",
    "    return"
   ]
  },
  {
   "cell_type": "code",
   "execution_count": 127,
   "id": "0ef12d62-4ac4-4aa4-8ffb-2c39f918c6b7",
   "metadata": {},
   "outputs": [],
   "source": [
    "#extract_info(a)\n",
    "#extract_info(b)\n",
    "\n",
    "#extract_info(c)\n",
    "#extract_info(d)\n",
    "\n",
    "#extract_info(e)\n",
    "#extract_info(f)"
   ]
  },
  {
   "cell_type": "code",
   "execution_count": 128,
   "id": "2af4115c-5e1f-40ed-b605-814afa8ed763",
   "metadata": {},
   "outputs": [],
   "source": [
    "def read_product(product_path):\n",
    "    product = ProductIO.readProduct(product_path)\n",
    "    return product"
   ]
  },
  {
   "cell_type": "code",
   "execution_count": 134,
   "id": "33150dc4-88d0-4047-822c-bee7dd080a6b",
   "metadata": {},
   "outputs": [],
   "source": [
    "#read_product(e)"
   ]
  },
  {
   "cell_type": "code",
   "execution_count": 135,
   "id": "28bcd480-aefa-43b4-ba52-a81d78cc6aa2",
   "metadata": {},
   "outputs": [],
   "source": [
    "master1 = read_product(a)\n",
    "slave1 = read_product(b)\n",
    "\n",
    "#master2 = read_product(c)\n",
    "#slave2 = read_product(d)\n",
    "\n",
    "master3 = read_product(f)\n",
    "slave3 = read_product(e)"
   ]
  },
  {
   "cell_type": "code",
   "execution_count": 136,
   "id": "e6921c72-a86b-4da9-a1d3-bad546bddbfa",
   "metadata": {},
   "outputs": [],
   "source": [
    "def write(product, save_path, extension):\n",
    "    print(\"Writing the product...\")\n",
    "    #GeoTIFF = .tif\n",
    "    #BEAM-DIMAP = .dim\n",
    "    ProductIO.writeProduct(product, save_path, extension)\n",
    "    print(\"Product written\")"
   ]
  },
  {
   "cell_type": "code",
   "execution_count": 137,
   "id": "f269a980-9395-4cfa-8962-5fc5115fe1d9",
   "metadata": {},
   "outputs": [],
   "source": [
    "#write(master1, '_results\\something_test', 'BEAM-DIMAP')"
   ]
  },
  {
   "cell_type": "code",
   "execution_count": 138,
   "id": "551496ea-adf3-41e6-9d15-324c1377e479",
   "metadata": {},
   "outputs": [],
   "source": [
    "def temporal_baseline(product1, product2):\n",
    "    master_time = product1.getStartTime()\n",
    "    slave_time = product2.getStartTime()\n",
    "    temporal_baseline = abs(slave_time.getMJD() - master_time.getMJD())\n",
    "\n",
    "    print(f\"Temporal Baseline: {temporal_baseline:.1f} days\")\n",
    "\n",
    "    product1.dispose()\n",
    "    product2.dispose()\n",
    "    return"
   ]
  },
  {
   "cell_type": "code",
   "execution_count": 139,
   "id": "37d4888a-7469-4d1e-91ad-82c553482fc0",
   "metadata": {},
   "outputs": [],
   "source": [
    "#temporal_baseline(master1, slave1)\n",
    "#temporal_baseline(master2, slave2)\n",
    "#temporal_baseline(master3, slave3)"
   ]
  },
  {
   "cell_type": "code",
   "execution_count": 140,
   "id": "35c28292-0e3d-4a59-a13a-d1a0d366199d",
   "metadata": {},
   "outputs": [],
   "source": [
    "def get_subswath(aoi, product):\n",
    "    if isinstance(aoi, str) and aoi.startswith('POLYGON'):\n",
    "        coords_str = aoi.replace('POLYGON((', '').replace('))', '')\n",
    "        coord_pairs = coords_str.split(',')\n",
    "        coords = []\n",
    "        for pair in coord_pairs:\n",
    "            lon, lat = map(float, pair.strip().split())\n",
    "            coords.append((lon, lat))\n",
    "        aoi_polygon = Polygon(coords)\n",
    "    elif isinstance(aoi, Polygon):\n",
    "        aoi_polygon = aoi\n",
    "    elif isinstance(aoi, (list, tuple)):\n",
    "        aoi_polygon = Polygon(aoi)\n",
    "    else:\n",
    "        raise ValueError(\"AOI must be a WKT string, Shapely Polygon, or list of (lon, lat) tuples\")\n",
    "    \n",
    "    centroid = aoi_polygon.centroid\n",
    "    \n",
    "    band_names = list(product.getBandNames())\n",
    "    subswaths = set()\n",
    "    \n",
    "    for band_name in band_names:\n",
    "        if '_IW' in band_name:\n",
    "            sw_part = band_name.split('_IW')[1][:1]\n",
    "            if sw_part.isdigit():\n",
    "                subswaths.add(f\"IW{sw_part}\")\n",
    "                \n",
    "    result = \"No subswath for the AOI\"\n",
    "    for subswath in sorted(subswaths):\n",
    "        subswath_bands = [band for band in band_names if f'_IW{subswath[-1]}_' in band]\n",
    "        if not subswath_bands:\n",
    "            continue\n",
    "            \n",
    "        band = product.getBand(subswath_bands[0])\n",
    "        geo_coding = band.getGeoCoding()\n",
    "        \n",
    "        if geo_coding:\n",
    "            pixel_pos = geo_coding.getPixelPos(esa_snappy.GeoPos(centroid.y, centroid.x), None)\n",
    "            width = band.getRasterWidth()\n",
    "            height = band.getRasterHeight()\n",
    "            \n",
    "            if 0 <= pixel_pos.x < width and 0 <= pixel_pos.y < height:\n",
    "                result = subswath\n",
    "    \n",
    "    return result"
   ]
  },
  {
   "cell_type": "code",
   "execution_count": 141,
   "id": "68d349ea-45a8-4303-b2b9-bb4b5d366a19",
   "metadata": {},
   "outputs": [
    {
     "data": {
      "text/plain": [
       "'IW2'"
      ]
     },
     "execution_count": 141,
     "metadata": {},
     "output_type": "execute_result"
    }
   ],
   "source": [
    "#aoi = [(-16.7502, 66.2085), (-15.5424, 66.2085), (-15.5424, 66.5664), (-16.7502, 66.5664), (-16.7502, 66.2085)]  #a certa\n",
    "#aoi = [(-18.3927, 66.0324), (-17.939, 66.0324), (-17.939, 66.1997), (-18.3927, 66.1997), (-18.3927, 66.0324)]\n",
    "#aoi = [(-24.6537, 65.4276), (-24.3714, 65.4276), (-24.3714, 65.528), (-24.6537, 65.528), (-24.6537, 65.4276)] #super fora\n",
    "#POLYGON((-16.6667 66.1961,-15.6057 66.1961,-15.6057 66.5597,-16.6667 66.5597,-16.6667 66.1961)) # mesma peninsula mas para dados com mesmo subswath\n",
    "aoi = [(-18.0631, 28.4088), (-17.6148, 28.4088), (-17.6148, 28.8836), (-18.0631, 28.8836), (-18.0631, 28.4088)] #spain\n",
    "#get_subswath(aoi, master3)\n",
    "#get_subswath(aoi, slave1)\n",
    "get_subswath(aoi, slave3)"
   ]
  },
  {
   "cell_type": "code",
   "execution_count": 142,
   "id": "1d75eba1-058a-4ce1-9e62-f42a97abd2e6",
   "metadata": {},
   "outputs": [],
   "source": [
    "def check_same_subswath(product1, product2, aoi):\n",
    "    subswath1 = get_subswath(aoi, product1)\n",
    "    subswath2 = get_subswath(aoi, product2)\n",
    "    if subswath1 == subswath2:\n",
    "        print(\"Both product use the same subswath:\", get_subswath(aoi, product1))\n",
    "    else:\n",
    "        print(\"For product\", product1.getName(), \"you'll need also to use to use the\", get_subswath(aoi, product2), \"subswath\")\n",
    "        print(\"For product\", product2.getName(), \"you'll need also to use to use the\", get_subswath(aoi, product1), \"subswath\")"
   ]
  },
  {
   "cell_type": "code",
   "execution_count": 143,
   "id": "59ed5ac3-65da-484c-b4ce-aafbdc7fad5b",
   "metadata": {},
   "outputs": [
    {
     "name": "stdout",
     "output_type": "stream",
     "text": [
      "Both product use the same subswath: IW2\n"
     ]
    }
   ],
   "source": [
    "check_same_subswath(slave3, master3, aoi)"
   ]
  },
  {
   "cell_type": "code",
   "execution_count": 144,
   "id": "c81c2052-c745-4f61-b95a-d26812040d06",
   "metadata": {},
   "outputs": [],
   "source": [
    "def topsar_merge(products, polarizations='VV'):\n",
    "    parameters = HashMap()\n",
    "    print('Merging...')\n",
    "    parameters.put(\"selectedPolarisations\", polarizations)\n",
    "    if isinstance(products, list):\n",
    "        merged_product = GPF.createProduct(\"TOPSAR-Merge\", parameters, products)\n",
    "    else:\n",
    "        merged_product = GPF.createProduct(\"TOPSAR-Merge\", parameters, products)\n",
    "    \n",
    "    return merged_product"
   ]
  },
  {
   "cell_type": "code",
   "execution_count": 145,
   "id": "56cfb145-8a2a-46bd-ba56-5c91b937d5e1",
   "metadata": {},
   "outputs": [],
   "source": [
    "#topsar_merge([topsar_deburst(topsar_split(master1, 'IW1', 'VH')), topsar_deburst(topsar_split(master1, 'IW2', 'VH'))], 'VH')"
   ]
  },
  {
   "cell_type": "code",
   "execution_count": 146,
   "id": "5c62eb8a-c813-4c6c-88ed-7d2e73f44b2e",
   "metadata": {},
   "outputs": [],
   "source": [
    "def merging_process(product1_to_merge, product2, polarization, aoi):\n",
    "    subswath_product1 = get_subswath(aoi, product1_to_merge)\n",
    "    subswath_product2 = get_subswath(aoi, product2)\n",
    "    \n",
    "    subswath1 = topsar_split(product1_to_merge,subswath_product1, polarization) \n",
    "    subswath2 = topsar_split(product1_to_merge,subswath_product2, polarization)\n",
    "\n",
    "    deburst1 = topsar_deburst(subswath1)\n",
    "    deburst2 = topsar_deburst(subswath2)\n",
    "\n",
    "    merge = topsar_merge([deburst1, deburst2], polarization)\n",
    "\n",
    "    return merge    "
   ]
  },
  {
   "cell_type": "code",
   "execution_count": 147,
   "id": "cfd2f3b9-ec11-4db5-8aa0-7c2e5e83e0c7",
   "metadata": {},
   "outputs": [],
   "source": [
    "#merging_process(master1, slave1, 'VH', aoi)"
   ]
  },
  {
   "cell_type": "code",
   "execution_count": 148,
   "id": "c02637b3-1e50-4fa5-80f7-b4278b988ff8",
   "metadata": {},
   "outputs": [],
   "source": [
    "def merge_all_subswath(product, polarization):    \n",
    "    subswath1 = topsar_split(product, 'IW1', polarization) \n",
    "    subswath2 = topsar_split(product, 'IW2', polarization) \n",
    "    subswath3 = topsar_split(product, 'IW3', polarization) \n",
    "\n",
    "    deburst1 = topsar_deburst(subswath1)\n",
    "    deburst2 = topsar_deburst(subswath2)\n",
    "    deburst3 = topsar_deburst(subswath3)\n",
    "\n",
    "    merge = topsar_merge([deburst1, deburst2, deburst3], polarization)\n",
    "\n",
    "    return merge  "
   ]
  },
  {
   "cell_type": "code",
   "execution_count": 149,
   "id": "18d46102-704d-4124-9475-0dbff4e03d0d",
   "metadata": {},
   "outputs": [],
   "source": [
    "#merge_all_subswath(master1, 'VH')"
   ]
  },
  {
   "cell_type": "markdown",
   "id": "7392be7a-72f8-4a11-9399-96cf587d6afc",
   "metadata": {},
   "source": [
    "# **Processing workflow starts**"
   ]
  },
  {
   "cell_type": "code",
   "execution_count": 150,
   "id": "83272617-6bbf-4013-bab9-0175ef070c99",
   "metadata": {},
   "outputs": [],
   "source": [
    "def topsar_split(product, subswath, polarization='VV'):\n",
    "    parameters = HashMap()\n",
    "    print('Apply TOPSAR Split...')\n",
    "    parameters.put('subswath', subswath)\n",
    "    #parameters.put('firstBurstIndex', 1) \n",
    "    #parameters.put('lastBurstIndex', 8) \n",
    "    parameters.put('selectedPolarisations', polarization)\n",
    "    output = GPF.createProduct(\"TOPSAR-Split\", parameters, product)\n",
    "    return output"
   ]
  },
  {
   "cell_type": "code",
   "execution_count": 151,
   "id": "244924e3-14a1-4e2a-9e87-863c2b88c2d6",
   "metadata": {},
   "outputs": [
    {
     "name": "stdout",
     "output_type": "stream",
     "text": [
      "Apply TOPSAR Split...\n",
      "Apply TOPSAR Split...\n",
      "Writing the product...\n",
      "Product written\n",
      "Writing the product...\n",
      "Product written\n"
     ]
    }
   ],
   "source": [
    "split_master = topsar_split(master3, get_subswath(aoi, master3), 'VH')\n",
    "split_slave = topsar_split(slave3, get_subswath(aoi, slave3), 'VH')\n",
    "write(split_master, '_results\\split_master', 'BEAM-DIMAP')\n",
    "write(split_slave, '_results\\split_slave', 'BEAM-DIMAP')"
   ]
  },
  {
   "cell_type": "code",
   "execution_count": 152,
   "id": "e20e161a-6556-4e3a-952f-eb40627025ed",
   "metadata": {},
   "outputs": [],
   "source": [
    "def apply_orbit_file(product):\n",
    "    parameters = HashMap()\n",
    "    print('Apply Orbit File...')\n",
    "    parameters.put(\"Orbit State Vectors\", \"Sentinel Precise (Auto Download)\")\n",
    "    parameters.put(\"Polynomial Degree\", 3)\n",
    "    parameters.put(\"Do not fail if new orbit file is not found\", True)\n",
    "    output = GPF.createProduct(\"Apply-Orbit-File\", parameters, product) \n",
    "    return output"
   ]
  },
  {
   "cell_type": "code",
   "execution_count": 153,
   "id": "dcae83ad-3c58-45a0-8a2e-613bdc6e1a98",
   "metadata": {},
   "outputs": [
    {
     "name": "stdout",
     "output_type": "stream",
     "text": [
      "Apply Orbit File...\n",
      "Apply Orbit File...\n",
      "Writing the product...\n",
      "Product written\n",
      "Writing the product...\n",
      "Product written\n"
     ]
    }
   ],
   "source": [
    "orbit_master = apply_orbit_file(read_product('_results\\split_master.dim'))\n",
    "orbit_slave = apply_orbit_file(read_product('_results\\split_slave.dim'))\n",
    "write(orbit_master, '_results\\orbit_master', 'BEAM-DIMAP')\n",
    "write(orbit_slave, '_results\\orbit_slave', 'BEAM-DIMAP')"
   ]
  },
  {
   "cell_type": "code",
   "execution_count": 154,
   "id": "36af0afe-1713-49b8-8443-2db0d4e56ea8",
   "metadata": {},
   "outputs": [],
   "source": [
    "def back_geocoding(products):\n",
    "    parameters = HashMap()\n",
    "    print('Back geocoding ...')\n",
    "    parameters.put(\"Digital Elevation Model\", \"SRTM 1Sec HGT (Auto Download)\")\n",
    "    parameters.put(\"demResamplingMethod\", \"BILINEAR_INTERPOLATION\")\n",
    "    parameters.put(\"resamplingType\", \"BILINEAR_INTERPOLATION\")\n",
    "    parameters.put(\"maskOutAreaWithoutElevation\", True)\n",
    "    parameters.put('disableSpectralDiversity', True)\n",
    "    parameters.put(\"outputDerampDemodPhase\", True)\n",
    "    parameters.put(\"disableReramp\", False)\n",
    "    #parameters.put(\"The list of source bands\", \"\")\n",
    "    output = GPF.createProduct(\"Back-Geocoding\", parameters, products) \n",
    "    return output"
   ]
  },
  {
   "cell_type": "code",
   "execution_count": 155,
   "id": "bde3b016-4f2d-45c6-9f6c-f42337dce8bc",
   "metadata": {
    "scrolled": true
   },
   "outputs": [
    {
     "name": "stdout",
     "output_type": "stream",
     "text": [
      "Back geocoding ...\n",
      "Writing the product...\n",
      "Product written\n"
     ]
    }
   ],
   "source": [
    "#back_geocoding([merge_all_subswath(master1, 'VH'), merge_all_subswath(slave1, 'VH')])\n",
    "back = back_geocoding([read_product(r'_results\\orbit_master.dim'), read_product(r'_results\\orbit_slave.dim')])\n",
    "write(back, r'_results\\back_geocoding', 'BEAM-DIMAP')"
   ]
  },
  {
   "cell_type": "code",
   "execution_count": 156,
   "id": "8b23140e-100f-4a85-9cfd-a50819ed0238",
   "metadata": {},
   "outputs": [],
   "source": [
    "def enhanced_spectral_diversity(product):\n",
    "    parameters = HashMap()\n",
    "    print('Enhancing Spectral Diversity ...')\n",
    "    parameters.put(\"fineWinWidthStr\", \"512\")\n",
    "    parameters.put(\"fineWinHeightStr\", \"512\")\n",
    "    parameters.put(\"fineWinAccAzimuth\", \"16\")\n",
    "    parameters.put(\"fineWinAccRange\", \"16\")\n",
    "    parameters.put(\"fineWinOversampling\", \"128\")\n",
    "    parameters.put(\"esdEstimator\", \"Periodogram\")\n",
    "    parameters.put(\"weightFunc\", \"Inv Quadratic\")\n",
    "    parameters.put(\"temporalBaselineType\", \"Number of images\")\n",
    "    parameters.put(\"integrationMethod\", \"L1 and L2\")\n",
    "    parameters.put(\"xCorrThreshold\", 0.1)\n",
    "    parameters.put(\"cohThreshold\", 0.3)\n",
    "    parameters.put(\"overallRangeShift\", 0.0)\n",
    "    parameters.put(\"overallAzimuthShift\", 0.0)\n",
    "    Integer = jpy.get_type('java.lang.Integer')\n",
    "    parameters.put(\"numBlocksPerOverlap\", Integer(10))\n",
    "    parameters.put(\"maxTemporalBaseline\", Integer(2))\n",
    "    parameters.put(\"doNotWriteTargetBands\", False)\n",
    "    parameters.put(\"useSuppliedRangeShift\", False)\n",
    "    parameters.put(\"useSuppliedAzimuthShift\", False)\n",
    "    output = GPF.createProduct(\"Enhanced-Spectral-Diversity\", parameters, product)\n",
    "    return output"
   ]
  },
  {
   "cell_type": "code",
   "execution_count": 157,
   "id": "cf53d465-7ed0-433a-9b20-5bd165f938ce",
   "metadata": {},
   "outputs": [
    {
     "name": "stdout",
     "output_type": "stream",
     "text": [
      "Enhancing Spectral Diversity ...\n",
      "Writing the product...\n",
      "Product written\n"
     ]
    }
   ],
   "source": [
    "enhanced = enhanced_spectral_diversity(read_product(r'_results\\back_geocoding.dim'))\n",
    "write(enhanced, r'_results\\enhanced', 'BEAM-DIMAP')"
   ]
  },
  {
   "cell_type": "code",
   "execution_count": 160,
   "id": "78fa9f9f-308d-4c48-b659-89012d65a3d5",
   "metadata": {},
   "outputs": [],
   "source": [
    "def interferogram(product):\n",
    "    parameters = HashMap()\n",
    "    print('Creating interferogram ...')\n",
    "    parameters.put(\"Subtract flat-earth phase\", True)\n",
    "    parameters.put(\"Degree of \\\"Flat Earth\\\" polynomial\", 5)\n",
    "    parameters.put(\"Number of \\\"Flat Earth\\\" estimation points\", 501)\n",
    "    parameters.put(\"Orbit interpolation degree\", 3)\n",
    "    parameters.put(\"Include coherence estimation\", True)\n",
    "    parameters.put(\"Square Pixel\", True)\n",
    "    parameters.put(\"Independent Window Sizes\", False)\n",
    "    #parameters.put(\"Coherence Azimuth Window Size\", 10)\n",
    "    #parameters.put(\"Coherence Range Window Size\", 2)\n",
    "    output = GPF.createProduct(\"Interferogram\", parameters, product) \n",
    "    return output"
   ]
  },
  {
   "cell_type": "code",
   "execution_count": 161,
   "id": "b11928c5-bce4-419d-ae79-ab1e2621d7db",
   "metadata": {},
   "outputs": [
    {
     "name": "stdout",
     "output_type": "stream",
     "text": [
      "Creating interferogram ...\n",
      "Writing the product...\n",
      "Product written\n"
     ]
    }
   ],
   "source": [
    "interferogram = interferogram(read_product(r'_results\\enhanced.dim'))\n",
    "write(interferogram, r'_results\\interferogram', 'BEAM-DIMAP')"
   ]
  },
  {
   "cell_type": "markdown",
   "id": "e2b9e00c-5a37-48ef-8064-06b66c66d4dd",
   "metadata": {},
   "source": [
    "**maybe coherence is not neeed because on the interferogram we already compute it**"
   ]
  },
  {
   "cell_type": "code",
   "execution_count": 85,
   "id": "d6289a9f-2942-43ec-934a-78ca9da78543",
   "metadata": {},
   "outputs": [],
   "source": [
    "def coherence_estimation(product):\n",
    "    parameters = HashMap()\n",
    "    print('Coherence Estimation...')\n",
    "    #parameters.put('cohWinAz', 2)          \n",
    "    #parameters.put('cohWinRg', 10)        \n",
    "    #parameters.put('subtractFlatEarthPhase', True)\n",
    "    #parameters.put('srpPolynomialDegree', int(5))  # Explicit cast\n",
    "    #parameters.put('srpNumberPoints', 501)\n",
    "    #parameters.put('orbitDegree', 3)\n",
    "    parameters.put('squarePixel', True)\n",
    "    parameters.put('subtractTopographicPhase', False)\n",
    "    #parameters.put('demName', 'SRTM 3Sec')\n",
    "    #parameters.put('externalDEMNoDataValue', 0.0)\n",
    "    #parameters.put('externalDEMApplyEGM', True)\n",
    "    #parameters.put('tileExtensionPercent', 100)\n",
    "    #parameters.put('singleMaster', False)\n",
    "    output = GPF.createProduct('Coherence', parameters, product)\n",
    "    return output"
   ]
  },
  {
   "cell_type": "code",
   "execution_count": 34,
   "id": "cc63cfde-c0d1-4b05-901f-41157ae78f53",
   "metadata": {},
   "outputs": [],
   "source": [
    "#coherence = coherence_estimation(interferogram)"
   ]
  },
  {
   "cell_type": "code",
   "execution_count": 162,
   "id": "f3a1e27e-b188-4e7d-8fb9-bc496c91041a",
   "metadata": {},
   "outputs": [],
   "source": [
    "def topsar_deburst(product, polarization='VV'):  \n",
    "    parameters = HashMap()\n",
    "    print('Apply TOPSAR Deburst...')\n",
    "    parameters.put(\"Polarisations\", polarization)\n",
    "    output=GPF.createProduct(\"TOPSAR-Deburst\", parameters, product)\n",
    "    return output"
   ]
  },
  {
   "cell_type": "code",
   "execution_count": 163,
   "id": "9f36849b-6d95-40f4-8e4e-ab1812f2b8ca",
   "metadata": {
    "scrolled": true
   },
   "outputs": [
    {
     "name": "stdout",
     "output_type": "stream",
     "text": [
      "Apply TOPSAR Deburst...\n",
      "Writing the product...\n",
      "Product written\n"
     ]
    }
   ],
   "source": [
    "deburst = topsar_deburst(read_product(r'_results\\interferogram.dim'), 'VH')\n",
    "write(deburst, r'_results\\deburst', 'BEAM-DIMAP')"
   ]
  },
  {
   "cell_type": "markdown",
   "id": "eed66d87-c0dc-4eb1-9f96-b5db07482190",
   "metadata": {},
   "source": [
    "**talvez topophase removal seja só para interferogram e não DEM**"
   ]
  },
  {
   "cell_type": "code",
   "execution_count": 166,
   "id": "69eff6de-578a-4b65-9b4c-75be81451888",
   "metadata": {},
   "outputs": [],
   "source": [
    "def topophase_removal(product):\n",
    "    parameters = HashMap()\n",
    "    print('Apply Topographical Phase Removal...')\n",
    "    parameters.put(\"Orbit Interpolation Degree\", 3)\n",
    "    parameters.put(\"Digital Elevation Model\", \"Copernicus 30m Global DEM\")\n",
    "    parameters.put(\"Tile Extension[%]\", 100)\n",
    "    parameters.put(\"Output topographic phase band\", True)\n",
    "    parameters.put(\"Output elevation band\", False)\n",
    "    output = GPF.createProduct(\"TopoPhaseRemoval\", parameters, product)\n",
    "    return output"
   ]
  },
  {
   "cell_type": "code",
   "execution_count": 168,
   "id": "f6c722f1-3bf8-48d3-a1d2-ba4945386277",
   "metadata": {},
   "outputs": [],
   "source": [
    "#topo_phase_removal = topophase_removal(deburst)"
   ]
  },
  {
   "cell_type": "code",
   "execution_count": 171,
   "id": "69cd60de-d596-426a-b77f-440ad3818ae9",
   "metadata": {},
   "outputs": [],
   "source": [
    "def goldstein_phase_filtering(product):\n",
    "    parameters = HashMap()\n",
    "    print('Apply Goldstein Phase Filtering...')\n",
    "    parameters.put('alpha', 1.0)\n",
    "    parameters.put('FFTSizeString', '64')\n",
    "    parameters.put('windowSizeString', '3')\n",
    "    parameters.put('useCoherenceMask', False)\n",
    "    parameters.put('coherenceThreshold', 0.2)  \n",
    "    output = GPF.createProduct(\"GoldsteinPhaseFiltering\", parameters, product)\n",
    "    return output"
   ]
  },
  {
   "cell_type": "code",
   "execution_count": 173,
   "id": "6cc258f1-9c69-46d9-9c54-2f9cf7243d05",
   "metadata": {
    "scrolled": true
   },
   "outputs": [
    {
     "name": "stdout",
     "output_type": "stream",
     "text": [
      "Apply Goldstein Phase Filtering...\n",
      "Writing the product...\n",
      "Product written\n"
     ]
    }
   ],
   "source": [
    "goldstein = goldstein_phase_filtering(read_product(r'_results\\deburst.dim'))\n",
    "write(deburst, r'_results\\goldstein', 'BEAM-DIMAP')"
   ]
  },
  {
   "cell_type": "code",
   "execution_count": 123,
   "id": "8b68d790-192f-45cc-8271-ce432f768a9e",
   "metadata": {},
   "outputs": [
    {
     "name": "stdout",
     "output_type": "stream",
     "text": [
      "After reloading:\n",
      "  Mean: 0.000000\n",
      "  Std: 0.000000\n",
      "  Non-zero pixels: 0\n"
     ]
    }
   ],
   "source": [
    "# Reload it\n",
    "reloaded_product = ProductIO.readProduct(r'_results\\goldstein.dim')\n",
    "\n",
    "# Now try reading from the reloaded product\n",
    "phase_band = reloaded_product.getBand('Phase_ifg_IW2_VH_08Sep2021_19Dec2021')\n",
    "phase_data = np.zeros(1000 * 1000, dtype=np.float32)\n",
    "phase_band.readPixels(11749, 6289, 1000, 1000, phase_data)\n",
    "\n",
    "print(\"After reloading:\")\n",
    "print(f\"  Mean: {np.mean(phase_data):.6f}\")\n",
    "print(f\"  Std: {np.std(phase_data):.6f}\")\n",
    "print(f\"  Non-zero pixels: {np.count_nonzero(phase_data)}\")"
   ]
  },
  {
   "cell_type": "markdown",
   "id": "b7c69c6b-33ba-4472-96f5-1c03e0731412",
   "metadata": {},
   "source": [
    "**talvez multilooking seja só para interferogram e não DEM**"
   ]
  },
  {
   "cell_type": "code",
   "execution_count": 43,
   "id": "de70bfa3-77cb-4cb3-a5d6-0a70675e4d5d",
   "metadata": {},
   "outputs": [],
   "source": [
    "def multilook(product):\n",
    "    parameters = HashMap()\n",
    "    print('Multilooking...')\n",
    "    #parameters.put(\"nRgLooks\", 6)\n",
    "    parameters.put(\"outputIntensity\", True)\n",
    "    parameters.put('grSquarePixel',True)\n",
    "    output = GPF.createProduct(\"Multilook\", parameters, product)\n",
    "    return output"
   ]
  },
  {
   "cell_type": "code",
   "execution_count": 44,
   "id": "75420a56-5afc-4a7d-a191-c55a497debc1",
   "metadata": {},
   "outputs": [],
   "source": [
    "#multilooking = multilook(goldstein)"
   ]
  },
  {
   "cell_type": "code",
   "execution_count": 45,
   "id": "9e1e98bd-5ca5-4639-88fe-0ef1e3da596d",
   "metadata": {},
   "outputs": [],
   "source": [
    "def snaphu_export(product, export_folder_path):\n",
    "    parameters = HashMap()\n",
    "    print('Exporting SNAPHU...')\n",
    "    parameters.put('targetFolder', export_folder_path)  \n",
    "    output = GPF.createProduct('SnaphuExport', parameters, product)\n",
    "    write(output, export_folder_path, 'Snaphu')\n",
    "    return output"
   ]
  },
  {
   "cell_type": "code",
   "execution_count": null,
   "id": "3660e957-29b7-4e2c-a234-0350c1ead62a",
   "metadata": {},
   "outputs": [
    {
     "name": "stdout",
     "output_type": "stream",
     "text": [
      "Exporting SNAPHU...\n",
      "Writing the product...\n"
     ]
    }
   ],
   "source": [
    "snaphu = snaphu_export(goldstein, '_results\\snaphu_export4')"
   ]
  },
  {
   "cell_type": "code",
   "execution_count": null,
   "id": "96885822-779a-4aac-b26e-cca7d77474c0",
   "metadata": {},
   "outputs": [],
   "source": []
  },
  {
   "cell_type": "code",
   "execution_count": null,
   "id": "6e750a4d-40c6-4ab0-a7ed-3a66baf2249a",
   "metadata": {},
   "outputs": [],
   "source": []
  },
  {
   "cell_type": "code",
   "execution_count": null,
   "id": "03ed63b9-5762-4a71-af54-e6442aec2db4",
   "metadata": {},
   "outputs": [],
   "source": []
  }
 ],
 "metadata": {
  "kernelspec": {
   "display_name": "Python (sar_env)",
   "language": "python",
   "name": "sar_env"
  },
  "language_info": {
   "codemirror_mode": {
    "name": "ipython",
    "version": 3
   },
   "file_extension": ".py",
   "mimetype": "text/x-python",
   "name": "python",
   "nbconvert_exporter": "python",
   "pygments_lexer": "ipython3",
   "version": "3.9.21"
  }
 },
 "nbformat": 4,
 "nbformat_minor": 5
}
