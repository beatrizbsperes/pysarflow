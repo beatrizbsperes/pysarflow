{
 "cells": [
  {
   "cell_type": "code",
   "execution_count": 265,
   "id": "6151bcd5-a6c2-4597-813c-20b46a0c0cbb",
   "metadata": {},
   "outputs": [],
   "source": [
    "import os\n",
    "import esa_snappy\n",
    "from esa_snappy import GPF\n",
    "from esa_snappy import ProductIO, GeoPos, PixelPos, WKTReader\n",
    "from esa_snappy import HashMap\n",
    "from esa_snappy import jpy\n",
    "import subprocess\n",
    "from time import *\n",
    "import numpy as np\n",
    "from shapely.geometry import Point, Polygon\n",
    "import geopandas as gpd\n",
    "\n",
    "HashMap = jpy.get_type('java.util.HashMap')\n",
    "parameters = HashMap()"
   ]
  },
  {
   "cell_type": "markdown",
   "id": "99d20e99-82cb-4eee-956c-bdb1babc2e53",
   "metadata": {},
   "source": [
    "Inputs have to be:\n",
    "- .SAFE folders\n",
    "- SLC data\n",
    "- IW beam mode"
   ]
  },
  {
   "cell_type": "code",
   "execution_count": 266,
   "id": "37aa1f34-6c23-4925-8f10-0f6e9993c7a0",
   "metadata": {},
   "outputs": [],
   "source": [
    "a = '_data\\S1A_IW_SLC__1SDV_20250519T184325_20250519T184352_059267_075AD4_7DCB.SAFE'\n",
    "b = '_data\\S1C_IW_SLC__1SDV_20250520T183354_20250520T183421_002418_005114_74D2.SAFE'"
   ]
  },
  {
   "cell_type": "code",
   "execution_count": 289,
   "id": "c2e04e41-6b0f-41f9-a959-da573c680d78",
   "metadata": {},
   "outputs": [],
   "source": [
    "def read_product(product_path):\n",
    "    product = ProductIO.readProduct(product_path)\n",
    "    return product"
   ]
  },
  {
   "cell_type": "code",
   "execution_count": 299,
   "id": "1764b315-8b66-4314-82d3-ccdc6a257d20",
   "metadata": {},
   "outputs": [],
   "source": [
    "#read_product(a)"
   ]
  },
  {
   "cell_type": "code",
   "execution_count": 269,
   "id": "be6e561b-aed2-42ef-b3d7-4bac376f77e4",
   "metadata": {},
   "outputs": [],
   "source": [
    "def write(product_path, save_path):\n",
    "    product = ProductIO.readProduct(product_path)\n",
    "    ProductIO.writeProduct(product, save_path, \"BEAM-DIMAP\")\n",
    "    product.dispose()\n",
    "    return"
   ]
  },
  {
   "cell_type": "code",
   "execution_count": 270,
   "id": "d1b83a37-33e7-4006-b9e5-fa9fb692fe12",
   "metadata": {},
   "outputs": [],
   "source": [
    "#write(a, '_results\\something_test')"
   ]
  },
  {
   "cell_type": "code",
   "execution_count": 271,
   "id": "755e90a6-ab51-4a4c-b9a8-635dc4832ce7",
   "metadata": {},
   "outputs": [],
   "source": [
    "def check_beam_mode(product_path):\n",
    "    product = read_product(product_path)\n",
    "    beam_mode = product.getName().split('_')[1] if '_' in product.getName() else 'Unknown'\n",
    "    product.dispose()\n",
    "    return beam_mode"
   ]
  },
  {
   "cell_type": "code",
   "execution_count": 272,
   "id": "24e31ddf-68fc-44fa-85f2-abf49a21ec1a",
   "metadata": {},
   "outputs": [],
   "source": [
    "#check_beam_mode(a)"
   ]
  },
  {
   "cell_type": "code",
   "execution_count": 273,
   "id": "79a03b45-b744-406b-baab-1a7312cb11b0",
   "metadata": {},
   "outputs": [],
   "source": [
    "def extract_info(product_path):\n",
    "    product = read_product(product_path)\n",
    "\n",
    "    print(\"Product name:\", product.getName())\n",
    "    print(\"Product type:\", product.getProductType())\n",
    "    print(\"Description:\", product.getDescription())\n",
    "    print(\"Beam Mode:\", check_beam_mode(product_path))\n",
    "    print(\"Scene width:\", product.getSceneRasterWidth())\n",
    "    print(\"Scene height:\", product.getSceneRasterHeight())\n",
    "\n",
    "    metadata = product.getMetadataRoot()\n",
    "    print(\"Start time:\", product.getStartTime())\n",
    "    print(\"End time:\", product.getEndTime())\n",
    "\n",
    "    print(\"\\n Bands\")\n",
    "    count = 0\n",
    "    band_names = product.getBandNames()\n",
    "    number_bands=len(list(band_names))\n",
    "    print(\"Number of bands:\", number_bands)\n",
    "    while count<number_bands:\n",
    "        band = product.getBand(band_names[count])\n",
    "        print(\"Band name:\", band.getName())\n",
    "        count = count + 1   \n",
    "    product.dispose()\n",
    "    print(\"\\n\")\n",
    "    return"
   ]
  },
  {
   "cell_type": "code",
   "execution_count": 274,
   "id": "5f93cb46-5c07-4f3b-a1b9-6eb4d401ef82",
   "metadata": {},
   "outputs": [],
   "source": [
    "#extract_info(a)\n",
    "#extract_info(b)"
   ]
  },
  {
   "cell_type": "code",
   "execution_count": 275,
   "id": "0365af8a-e516-4e52-a143-a5437d8107ec",
   "metadata": {},
   "outputs": [],
   "source": [
    "def temporal_baseline(product_path1, product_path2):\n",
    "    master_product = read_product(product_path1)\n",
    "    slave_product = read_product(product_path2)\n",
    "    \n",
    "    master_time = master_product.getStartTime()\n",
    "    slave_time = slave_product.getStartTime()\n",
    "    temporal_baseline = abs(slave_time.getMJD() - master_time.getMJD())\n",
    "\n",
    "    print(f\"Temporal Baseline: {temporal_baseline:.1f} days\")\n",
    "\n",
    "    master_product.dispose()\n",
    "    slave_product.dispose()\n",
    "    return"
   ]
  },
  {
   "cell_type": "code",
   "execution_count": 298,
   "id": "5c995c87-9e33-4229-9886-c7d23470c283",
   "metadata": {},
   "outputs": [],
   "source": [
    "#temporal_baseline(a, b)"
   ]
  },
  {
   "cell_type": "code",
   "execution_count": 300,
   "id": "1d3f2d20-b95e-4581-bacf-39023added47",
   "metadata": {},
   "outputs": [],
   "source": [
    "def get_subswath(aoi, product_path):\n",
    "    product = read_product(product_path)\n",
    "    if isinstance(aoi, str) and aoi.startswith('POLYGON'):\n",
    "        coords_str = aoi.replace('POLYGON((', '').replace('))', '')\n",
    "        coord_pairs = coords_str.split(',')\n",
    "        coords = []\n",
    "        for pair in coord_pairs:\n",
    "            lon, lat = map(float, pair.strip().split())\n",
    "            coords.append((lon, lat))\n",
    "        aoi_polygon = Polygon(coords)\n",
    "    elif isinstance(aoi, Polygon):\n",
    "        aoi_polygon = aoi\n",
    "    elif isinstance(aoi, (list, tuple)):\n",
    "        aoi_polygon = Polygon(aoi)\n",
    "    else:\n",
    "        raise ValueError(\"AOI must be a WKT string, Shapely Polygon, or list of (lon, lat) tuples\")\n",
    "    \n",
    "    centroid = aoi_polygon.centroid\n",
    "    \n",
    "    band_names = list(product.getBandNames())\n",
    "    subswaths = set()\n",
    "    \n",
    "    for band_name in band_names:\n",
    "        if '_IW' in band_name:\n",
    "            sw_part = band_name.split('_IW')[1][:1]\n",
    "            if sw_part.isdigit():\n",
    "                subswaths.add(f\"IW{sw_part}\")\n",
    "                \n",
    "    result = \"No subswath for the AOI\"\n",
    "    for subswath in sorted(subswaths):\n",
    "        subswath_bands = [band for band in band_names if f'_IW{subswath[-1]}_' in band]\n",
    "        if not subswath_bands:\n",
    "            continue\n",
    "            \n",
    "        band = product.getBand(subswath_bands[0])\n",
    "        geo_coding = band.getGeoCoding()\n",
    "        \n",
    "        if geo_coding:\n",
    "            pixel_pos = geo_coding.getPixelPos(esa_snappy.GeoPos(centroid.y, centroid.x), None)\n",
    "            width = band.getRasterWidth()\n",
    "            height = band.getRasterHeight()\n",
    "            \n",
    "            if 0 <= pixel_pos.x < width and 0 <= pixel_pos.y < height:\n",
    "                result = subswath\n",
    "    \n",
    "    return result"
   ]
  },
  {
   "cell_type": "code",
   "execution_count": 317,
   "id": "0da305a6-e71d-4482-ac36-d2da2062f0ed",
   "metadata": {},
   "outputs": [],
   "source": [
    "aoi = [(-16.7502, 66.2085), (-15.5424, 66.2085), (-15.5424, 66.5664), (-16.7502, 66.5664), (-16.7502, 66.2085)]  #a certa\n",
    "#aoi = [(-18.3927, 66.0324), (-17.939, 66.0324), (-17.939, 66.1997), (-18.3927, 66.1997), (-18.3927, 66.0324)]\n",
    "#aoi = [(-24.6537, 65.4276), (-24.3714, 65.4276), (-24.3714, 65.528), (-24.6537, 65.528), (-24.6537, 65.4276)] #super fora\n",
    "#get_subswath(aoi, a)"
   ]
  },
  {
   "cell_type": "code",
   "execution_count": 314,
   "id": "730e171f-4e5e-4e21-abdd-7667203f4ee3",
   "metadata": {},
   "outputs": [],
   "source": [
    "def topsar_split(product,IW, polarization='VV'):\n",
    "    print('Apply TOPSAR Split...')\n",
    "    parameters = HashMap()\n",
    "    parameters.put('subswath', IW)\n",
    "    parameters.put('selectedPolarisations', polarization)\n",
    "    output = GPF.createProduct(\"TOPSAR-Split\", parameters, product)\n",
    "    return output"
   ]
  },
  {
   "cell_type": "code",
   "execution_count": 315,
   "id": "52d3f319-b64c-4d13-987d-6b4f2d6a9149",
   "metadata": {},
   "outputs": [],
   "source": [
    "#topsar_split(read_product(a), get_subswath(aoi, a), 'VH')"
   ]
  },
  {
   "cell_type": "code",
   "execution_count": 323,
   "id": "d6e3c57b-97df-4371-9b72-fbef03f8d9da",
   "metadata": {},
   "outputs": [],
   "source": [
    "def apply_orbit_file(product):\n",
    "    print('Apply Orbit File...')\n",
    "    parameters = HashMap()\n",
    "    parameters.put(\"Orbit State Vectors\", \"Sentinel Precise (Auto Download)\")\n",
    "    parameters.put(\"Polynomial Degree\", 3)\n",
    "    parameters.put(\"Do not fail if new orbit file is not found\", True)\n",
    "    output = GPF.createProduct(\"Apply-Orbit-File\", parameters, product) \n",
    "    return output"
   ]
  },
  {
   "cell_type": "code",
   "execution_count": 325,
   "id": "7bf1b38f-2f4c-4a27-a5a6-59bb7d9a491b",
   "metadata": {},
   "outputs": [],
   "source": [
    "#apply_orbit_file(topsar_split(read_product(a), get_subswath(aoi, a), 'VH'))"
   ]
  },
  {
   "cell_type": "code",
   "execution_count": 336,
   "id": "d790ceae-2519-436e-87bc-3de0d39b1716",
   "metadata": {},
   "outputs": [],
   "source": [
    "def back_geocoding(product):\n",
    "    print('Back geocoding ...')\n",
    "    parameters = HashMap()\n",
    "    parameters.put(\"demName\", \"Copernicus 30m Global DEM\")\n",
    "    parameters.put(\"DEM Resampling Method\", \"BILINEAR_INTERPOLATION\")\n",
    "    parameters.put(\"Resampling Type\", \"BILINEAR_INTERPOLATION\")\n",
    "    parameters.put(\"Mask out areas with no elevation\", True)\n",
    "    parameters.put(\"Output Deramp and Demod Phase\", True)\n",
    "    parameters.put(\"Disable Reramp\", False)\n",
    "    output = GPF.createProduct(\"Back-Geocoding\", parameters, product) \n",
    "    return output"
   ]
  },
  {
   "cell_type": "code",
   "execution_count": 337,
   "id": "8a720b4c-3c31-4928-bb25-caebdf719584",
   "metadata": {},
   "outputs": [],
   "source": [
    "#back_geocoding(apply_orbit_file(topsar_split(read_product(a), get_subswath(aoi, a), 'VH')))"
   ]
  },
  {
   "cell_type": "code",
   "execution_count": null,
   "id": "17de4dc4-1321-4f20-8c4e-9976b7c197e7",
   "metadata": {},
   "outputs": [],
   "source": []
  }
 ],
 "metadata": {
  "kernelspec": {
   "display_name": "Python (sar_env)",
   "language": "python",
   "name": "sar_env"
  },
  "language_info": {
   "codemirror_mode": {
    "name": "ipython",
    "version": 3
   },
   "file_extension": ".py",
   "mimetype": "text/x-python",
   "name": "python",
   "nbconvert_exporter": "python",
   "pygments_lexer": "ipython3",
   "version": "3.9.21"
  }
 },
 "nbformat": 4,
 "nbformat_minor": 5
}
